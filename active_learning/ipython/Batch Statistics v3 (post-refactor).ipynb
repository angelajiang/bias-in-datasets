{
 "cells": [
  {
   "cell_type": "code",
   "execution_count": 80,
   "metadata": {},
   "outputs": [],
   "source": [
    "import seaborn as sns\n",
    "import itertools\n",
    "from scipy import stats\n",
    "import tensorflow as tf\n",
    "import numpy as np\n",
    "import matplotlib.mlab as mlab\n",
    "import matplotlib.pyplot as plt\n",
    "import cPickle as pickle\n",
    "import os\n",
    "import seaborn as sns\n",
    "from IPython.display import Image, display\n",
    "from sklearn import metrics\n",
    "\n",
    "\n",
    "sns.set_style(\"white\")\n",
    "sns.set_palette(\"husl\")\n",
    "\n",
    "class Config:\n",
    "    #MATCHER = (\"^(.*)_(.*)_(.*)_(.*)_(\\d+)_(\\d*\\.?\\d*)_(\\d*\\.?\\d*)(_trial\\d+)?(_epoch\\d+)?\")\n",
    "    MATCHER = (\"^(.*)_(.*)_(.*)_(.*)_(\\d+)_(\\d*\\.?\\d*)_(\\d*\\.?\\d*)(_trial\\d+)(_seed\\d+)(_losses.)?(epoch_\\d+)?\")\n",
    "\n",
    "\n",
    "    def __init__(self, filename):\n",
    "        groups = self.matches(filename)\n",
    "        self.strategy = groups[0]\n",
    "        self.dataset = groups[1]\n",
    "        self.network = groups[2]\n",
    "        self.top_k = float(groups[3])\n",
    "        self.pool_size = int(groups[4])\n",
    "        self.lr = float(groups[5])\n",
    "        self.decay = float(groups[6])\n",
    "        self.trial = None\n",
    "        self.epoch = None\n",
    "        if groups[7]:\n",
    "            unparsed_trial = groups[7]\n",
    "            self.trial = int(unparsed_trial.strip(\"_trial\"))\n",
    "        if groups[10]:\n",
    "            unparsed_epoch = groups[10]\n",
    "            self.epoch = int(unparsed_epoch.strip(\"_epoch\"))\n",
    "\n",
    "\n",
    "    def matches(self, filename):\n",
    "        import re\n",
    "        return (re.match(Config.MATCHER, filename)).groups()\n",
    "    \n",
    "    @property\n",
    "    def filename(self):\n",
    "        sanitized_label = self.label.replace(\" \", \"\").replace(\":\", \"\").split(\",\")\n",
    "        return '-'.join([str(token) for token in sanitized_label])\n",
    "\n",
    "        \n",
    "    @property\n",
    "    def label(self):\n",
    "        print(self.strategy)\n",
    "        if self.strategy == \"topk\":\n",
    "            label = \"{}, {}, top_{}/{}\".format(self.strategy,\n",
    "                                                      self.network,\n",
    "                                                      self.top_k,\n",
    "                                                      self.pool_size)\n",
    "        elif self.strategy == \"lowk\":\n",
    "            label = \"{}, {}, lowest_{}/{}\".format(self.strategy,\n",
    "                                                      self.network,\n",
    "                                                      self.top_k,\n",
    "                                                      self.pool_size)\n",
    "        elif self.strategy == \"randomk\":\n",
    "            label = \"{}, {}, random_{}/{}\".format(self.strategy,\n",
    "                                                      self.network,\n",
    "                                                      self.top_k,\n",
    "                                                      self.pool_size)\n",
    "        elif self.strategy == \"kath\":\n",
    "            label = \"{}, {}, {}/{}\".format(self.strategy,\n",
    "                                                      self.network,\n",
    "                                                      self.top_k,\n",
    "                                                      self.pool_size)\n",
    "        elif self.strategy == \"sampling\" or self.strategy == \"deterministic\":\n",
    "            label = \"{}, {}, Min: {}\".format(self.strategy,\n",
    "                                                   self.network,\n",
    "                                                   self.top_k) \n",
    "        elif self.strategy == \"baseline\":\n",
    "            label = \"{}, {}\".format(self.strategy, self.network)    \n",
    "        else:\n",
    "            label = \"\"\n",
    "        #if self.trial:\n",
    "        #    label += \", trial-{}\".format(self.trial)\n",
    "        if self.epoch:\n",
    "            label += \", epoch-{}\".format(self.epoch)\n",
    "        return label\n",
    "\n",
    "def write_file(plot_file_prefix):\n",
    "    plot_file = \"{}.pdf\".format(plot_file_prefix)\n",
    "    plt.savefig(plot_file)\n",
    "    \n",
    "    plot_file = \"{}.png\".format(plot_file_prefix)\n",
    "    plt.savefig(plot_file, format=\"png\", dpi=1000)\n",
    "    plt.clf()\n",
    "\n",
    "def get_percentiles(d, num_percentiles):\n",
    "    xs = np.arange(0, 100, 100./num_percentiles)\n",
    "    ys = [np.percentile(d, x) for x in xs]\n",
    "    return xs, ys\n",
    "            \n",
    "def format_plot(xlabel, ylabel, label_size=10, grid=False):\n",
    "    plt.tick_params(axis='y', which='major', labelsize=label_size * 1.4)\n",
    "    plt.tick_params(axis='y', which='minor', labelsize=label_size * 1.2)\n",
    "    plt.tick_params(axis='x', which='major', labelsize=label_size * 1.4)\n",
    "    plt.tick_params(axis='x', which='minor', labelsize=label_size * 1.2)\n",
    "\n",
    "    plt.xlabel(xlabel, fontsize=label_size * 1.6)\n",
    "    plt.ylabel(ylabel, fontsize=label_size * 1.6)\n",
    "    plt.tight_layout()\n",
    "    plt.gca().xaxis.grid(grid)\n",
    "    plt.gca().yaxis.grid(grid)\n",
    "    \n",
    "    leg = plt.legend(loc=0, prop={'size': label_size * .6})\n",
    "    for legobj in leg.legendHandles:\n",
    "        legobj.set_linewidth(2.0)\n"
   ]
  },
  {
   "cell_type": "code",
   "execution_count": 2,
   "metadata": {},
   "outputs": [],
   "source": [
    "def plot_image_distributions(pickles_dir, plot_dir, trials=None, num_percentiles=100):\n",
    "    print(\"In plot_image_distributions for {}\".format(plot_dir))\n",
    "    for filename in os.listdir(pickles_dir):\n",
    "        config = Config(filename)\n",
    "\n",
    "        if trials:\n",
    "            if config.trial not in trials:\n",
    "                continue\n",
    "        pickles_file = os.path.join(pickles_dir, filename)\n",
    "        binwidth=1\n",
    "        with open(pickles_file, 'rb') as handle:\n",
    "            d = pickle.load(handle)\n",
    "            \n",
    "            # Plot histogram\n",
    "            n, bins, patches = plt.hist(d.values(),\n",
    "                                        bins=range(min(d.values()), max(d.values()) + binwidth, binwidth),\n",
    "                                        normed=0,\n",
    "                                        facecolor='green',\n",
    "                                        alpha=0.75)\n",
    "            \n",
    "            plt.title(config.label+\" Num backprops: {}\".format(sum(d.values())))\n",
    "            plt.xlim(0, max(d.values()) + 1)\n",
    "            plt.xlabel(\"Num backprops\")\n",
    "            plt.ylabel(\"Num images\")\n",
    "            subplot_dir = os.path.join(plot_dir, \"images_dist\")\n",
    "            if not os.path.isdir(subplot_dir):\n",
    "                os.mkdir(subplot_dir)\n",
    "            plt.tight_layout()\n",
    "            plot_prefix = os.path.join(subplot_dir, filename)\n",
    "            write_file(plot_prefix)\n",
    "            \n",
    "            # Plot percentiles\n",
    "            plt.clf()\n",
    "            xs, ys = get_percentiles(d.values(), num_percentiles)\n",
    "            plt.plot(xs, ys)\n",
    "            plt.title(config.label+\" Num backprops: {}\".format(sum(d.values())))\n",
    "            plt.xlabel(\"Percentile\")\n",
    "            plt.ylabel(\"Num backprops per image\")\n",
    "            subplot_dir = os.path.join(plot_dir, \"images_percentile\")\n",
    "            if not os.path.isdir(subplot_dir):\n",
    "                os.mkdir(subplot_dir)\n",
    "            plt.tight_layout()\n",
    "            plot_prefix = os.path.join(subplot_dir, filename)\n",
    "            write_file(plot_prefix)"
   ]
  },
  {
   "cell_type": "code",
   "execution_count": 3,
   "metadata": {},
   "outputs": [],
   "source": [
    "def plot_confidence_distributions(pickles_dir, plot_dir, max_epoch=None, trials=None, num_percentiles=100):\n",
    "    print(\"In plot_confidence_distributions for {}\".format(plot_dir))\n",
    "    for filename in os.listdir(pickles_dir):\n",
    "        config = Config(filename)\n",
    "        if trials:\n",
    "            if config.trial not in trials:\n",
    "                continue\n",
    "        pickles_file = os.path.join(pickles_dir, filename)\n",
    "        binwidth=1\n",
    "        with open(pickles_file, 'rb') as handle:\n",
    "            print(pickles_file)\n",
    "            d = pickle.load(handle)\n",
    "            for epoch, data in d.iteritems():\n",
    "                if max_epoch is not None:\n",
    "                    if epoch > max_epoch:\n",
    "                        break\n",
    "                \n",
    "                # Plot histogram\n",
    "                probs = [int(c*100) for c in data[\"confidences\"]]\n",
    "                num_backpropped = data[\"num_backpropped\"]\n",
    "                n, bins, patches = plt.hist(probs,\n",
    "                                            bins=range(min(probs), max(probs) + binwidth, binwidth),\n",
    "                                            normed=0,\n",
    "                                            facecolor='green',\n",
    "                                            alpha=0.75)\n",
    "                plt.title(\"{}, {} backpropped\".format(config.label, num_backpropped))\n",
    "                plt.xlabel(\"Probability of target\")\n",
    "                plt.ylabel(\"Frequency\")\n",
    "                subplot_dir = os.path.join(plot_dir, \"target_confidences\")\n",
    "                if not os.path.isdir(subplot_dir):\n",
    "                    os.mkdir(subplot_dir)\n",
    "                plot_prefix = os.path.join(subplot_dir, \"{}_epoch{}_{}backpropped\".format(filename,\n",
    "                                                                              epoch,\n",
    "                                                                              num_backpropped))\n",
    "                          \n",
    "                plt.tight_layout()\n",
    "                write_file(plot_prefix)\n",
    "                          \n",
    "                # Plot percentiles\n",
    "                plt.clf()\n",
    "                xs, ys = get_percentiles(probs, num_percentiles)\n",
    "                plt.plot(xs, ys)\n",
    "                auc = metrics.auc(xs, ys)\n",
    "                plt.title(config.label+\" AUC: {}\".format(auc))\n",
    "                plt.xlabel(\"Percentile\")\n",
    "                plt.ylabel(\"Target confidence\")\n",
    "                subplot_dir = os.path.join(plot_dir, \"target_confidences_percentiles\")\n",
    "                if not os.path.isdir(subplot_dir):\n",
    "                    os.mkdir(subplot_dir)\n",
    "                plt.tight_layout()\n",
    "                plot_prefix = os.path.join(subplot_dir, \"{}_epoch{}_{}backpropped\".format(filename,\n",
    "                                                                                          epoch,\n",
    "                                                                                          num_backpropped))\n",
    "                write_file(plot_prefix)\n",
    "\n",
    "                # Wow, hack\n",
    "                random_data_dir = os.path.join(subplot_dir, \"data\")\n",
    "                if not os.path.isdir(random_data_dir):\n",
    "                    os.mkdir(random_data_dir)\n",
    "                extra_filename = \"{}_epoch{}_{}backpropped.txt\".format(filename,\n",
    "                                                                       epoch,\n",
    "                                                                       num_backpropped)\n",
    "                print(\"Extra filename: {}\".format(extra_filename))\n",
    "                with open(extra_filename, \"w+\") as f:\n",
    "                    for x, y in zip(xs, ys):\n",
    "                        line = \"{},{}\\n\".format(x, y)\n",
    "                        f.write(line)\n",
    "                                        \n"
   ]
  },
  {
   "cell_type": "code",
   "execution_count": 4,
   "metadata": {},
   "outputs": [],
   "source": [
    "def analyze_stdev(stdev_by_image_id, filename, src_dir=\"../data/images/cifar10_by_id\", top_k=10):\n",
    "    config = Config(filename)\n",
    "    print(\"Analyzing stdevs for {}\".format(config.label))\n",
    "    stdevs = stdev_by_image_id.values()\n",
    "    n, bins, patches = plt.hist(stdevs,\n",
    "                                10,\n",
    "                                normed=0,\n",
    "                                alpha=0.8)            \n",
    "    plt.title(config.label)\n",
    "    plt.xlabel(\"Probability stdev\")\n",
    "    plt.ylabel(\"Frequency\")\n",
    "\n",
    "    subplot_dir = os.path.join(plot_dir, \"probabilities_by_image\")\n",
    "    if not os.path.isdir(subplot_dir):\n",
    "        os.mkdir(subplot_dir)\n",
    "    plt.tight_layout()\n",
    "    plot_prefix = os.path.join(subplot_dir, filename + \"_stdev\")\n",
    "    write_file(plot_prefix)\n",
    "\n",
    "    sorted_ids = sorted(stdev_by_image_id, key=lambda k: stdev_by_image_id[k])\n",
    "    \n",
    "    # Show image_ids with highest stdev\n",
    "    print(\"Images from sample with highest stdev\")\n",
    "    for image_id in list(reversed(sorted_ids))[:top_k]:\n",
    "        src_file = os.path.join(src_dir, \"image-{}.png\".format(image_id))\n",
    "        display(Image(filename=src_file))\n",
    "\n",
    "    # Show image_ids with lowest stdev\n",
    "    print(\"Images from sample with lowest stdev\")\n",
    "    for image_id in sorted_ids[:top_k]:\n",
    "        src_file = os.path.join(src_dir, \"image-{}.png\".format(image_id))\n",
    "        display(Image(filename=src_file))\n",
    "              "
   ]
  },
  {
   "cell_type": "code",
   "execution_count": 71,
   "metadata": {},
   "outputs": [],
   "source": [
    "def plot_probability_timelines(pickles_dir, plot_dir, max_ids=None, trials=None):\n",
    "    print(\"In plot_probability_timelines for {}\".format(plot_dir))\n",
    "    palette = itertools.cycle(sns.color_palette())\n",
    "\n",
    "    for filename in os.listdir(pickles_dir):\n",
    "        config = Config(filename)\n",
    "        if trials:\n",
    "            if config.trial not in trials:\n",
    "                continue\n",
    "        pickles_file = os.path.join(pickles_dir, filename)\n",
    "        with open(pickles_file, 'rb') as handle:\n",
    "            d = pickle.load(handle)\n",
    "            stdev_by_image_id = {}\n",
    "            for image_id, ys in d.iteritems():\n",
    "                xs = range(len(ys))\n",
    "                stdev_by_image_id[image_id] = np.std(ys)\n",
    "                if max_ids <= image_id:\n",
    "                    break\n",
    "                plt.plot(xs, ys, color=next(palette))\n",
    "            plt.xlabel(\"Epochs\")\n",
    "            plt.ylabel(\"Probability of Selection\")\n",
    "\n",
    "            subplot_dir = os.path.join(plot_dir, \"probabilities_by_image\")\n",
    "            if not os.path.isdir(subplot_dir):\n",
    "                os.mkdir(subplot_dir)\n",
    "            plot_prefix = os.path.join(subplot_dir, config.filename)\n",
    "            plt.tight_layout()\n",
    "            plt.xlim(0, 100)\n",
    "            print(\"Probability timeline: {}\".format(plot_prefix))\n",
    "            write_file(plot_prefix)\n",
    "            \n",
    "           # analyze_standard_deviations\n",
    "            analyze_stdev(stdev_by_image_id, filename)"
   ]
  },
  {
   "cell_type": "code",
   "execution_count": 6,
   "metadata": {},
   "outputs": [],
   "source": [
    "def plot_probability_distributions(pickles_dir, plot_dir, max_ids=None, trials=None):\n",
    "    print(\"In plot_probability_timelines for {}\".format(plot_dir))\n",
    "    palette = itertools.cycle(sns.color_palette())\n",
    "\n",
    "    for filename in os.listdir(pickles_dir):\n",
    "        config = Config(filename)\n",
    "        if trials:\n",
    "            if config.trial not in trials:\n",
    "                continue\n",
    "        pickles_file = os.path.join(pickles_dir, filename)\n",
    "        with open(pickles_file, 'rb') as handle:\n",
    "            d = pickle.load(handle)\n",
    "            probs = []\n",
    "            for arr in d.values():\n",
    "                probs.append(arr[-1])\n",
    "            n, bins, patches = plt.hist(probs,\n",
    "                                        50,\n",
    "                                        normed=0,\n",
    "                                        facecolor='green',\n",
    "                                        alpha=0.75)\n",
    "            \n",
    "            plt.title(\"{}, {} epochs\".format(config.label, len(probs)))\n",
    "            plt.xlabel(\"Select Probability\")\n",
    "            plt.ylabel(\"Distribution\")\n",
    "            plt.show()\n"
   ]
  },
  {
   "cell_type": "code",
   "execution_count": 81,
   "metadata": {},
   "outputs": [],
   "source": [
    "\n",
    "def plot_losses_cdf(pickles_dir, plot_dir, trials=None):\n",
    "    losses_plot_dir = os.path.join(plot_dir, \"losses\")\n",
    "    if not os.path.exists(losses_plot_dir):\n",
    "        os.makedirs(losses_plot_dir)\n",
    "    all_losses = []\n",
    "    for filename in os.listdir(pickles_dir):\n",
    "        config = Config(filename)\n",
    "        if trials:\n",
    "            if config.trial not in trials:\n",
    "                continue\n",
    "        n_bins = 5000\n",
    "        pickles_file = os.path.join(pickles_dir, filename)\n",
    "        with open(pickles_file, \"rb\") as handle:\n",
    "            d = pickle.load(handle)\n",
    "            all_losses += d\n",
    "            if False:\n",
    "                n, bins, patches = plt.hist(d, n_bins, normed=1, linewidth=2, histtype='step',\n",
    "                                           cumulative=True, label='Epoch {}'.format(config.epoch))\n",
    "                plotfile = os.path.join(losses_plot_dir, filename)\n",
    "                plt.xscale('log')\n",
    "                format_plot(\"Cross-Entropy Loss (log)\", \"CDF\")\n",
    "                write_file(plotfile)\n",
    "                plt.clf()\n",
    "    min_loss = min(all_losses)\n",
    "    max_loss = max(all_losses)\n",
    "    delta = max_loss - min_loss\n",
    "    percentages = [0.01, 0.1, 0.5, 1]\n",
    "    for percent in percentages:\n",
    "        thresh = delta * (percent / 100.) + min_loss\n",
    "        percentile = stats.percentileofscore(all_losses, thresh)\n",
    "        print(percent, thresh, percentile)\n",
    "    normalized_losses = [l / float(max_loss) for l in all_losses]\n",
    "    if True:\n",
    "        n, bins, patches = plt.hist(all_losses, n_bins, normed=1, linewidth=2, histtype='step', cumulative=True)\n",
    "        plotfile = os.path.join(losses_plot_dir, \"all_losses_log\")\n",
    "        format_plot(\"Cross-entropy Loss\", \"CDF\")\n",
    "        write_file(plotfile)\n",
    "        plt.clf()\n",
    "\n",
    "        n, bins, patches = plt.hist(all_losses, n_bins, normed=1, linewidth=2, histtype='step', cumulative=True)\n",
    "        plotfile = os.path.join(losses_plot_dir, \"all_losses_log\")\n",
    "        plt.xscale('log')\n",
    "        format_plot(\"Cross-entropy Loss (log)\", \"CDF\")\n",
    "        write_file(plotfile)\n",
    "        plt.clf()\n",
    "    \n",
    "    "
   ]
  },
  {
   "cell_type": "code",
   "execution_count": 62,
   "metadata": {},
   "outputs": [],
   "source": [
    "import collections\n",
    "\n",
    "def plot_loss_timelines(pickles_dir, plot_dir, max_ids=None, trials=None):\n",
    "    print(\"In plot_loss_timelines for {}\".format(plot_dir))\n",
    "    palette = itertools.cycle(sns.color_palette())\n",
    "    loss_by_image_by_epoch = {}\n",
    "\n",
    "    for filename in os.listdir(pickles_dir):\n",
    "        print(\"Parsing {}\".format(filename))\n",
    "        config = Config(filename)\n",
    "        if trials:\n",
    "            if config.trial not in trials:\n",
    "                continue\n",
    "        pickles_file = os.path.join(pickles_dir, filename)\n",
    "        with open(pickles_file, 'rb') as handle:\n",
    "            d = pickle.load(handle)\n",
    "            for i, loss in enumerate(d):\n",
    "                if max_ids <= i:\n",
    "                    break\n",
    "                if i not in loss_by_image_by_epoch.keys():\n",
    "                    loss_by_image_by_epoch[i] = {}\n",
    "                loss_by_image_by_epoch[i][config.epoch] = loss\n",
    "    for image_id, loss_by_epoch in loss_by_image_by_epoch.iteritems():\n",
    "        print(\"Plotting image_id {}\".format(image_id))\n",
    "        od = collections.OrderedDict(sorted(loss_by_epoch.items()))\n",
    "        xs = [epoch for epoch, loss in od.iteritems()]\n",
    "        ys = [loss for epoch, loss in od.iteritems()]\n",
    "        plt.plot(xs, ys)\n",
    "    plt.title(config.label)\n",
    "    plt.xlabel(\"Epochs\")\n",
    "    plt.ylabel(\"Loss\")\n",
    "\n",
    "    plot_prefix = os.path.join(plot_dir, \"losses_by_image\")\n",
    "    plt.tight_layout()\n",
    "    print(\"Loss timeline: {}\".format(plot_prefix))\n",
    "    write_file(plot_prefix)\n"
   ]
  },
  {
   "cell_type": "code",
   "execution_count": 15,
   "metadata": {},
   "outputs": [],
   "source": [
    "def count_flips(arr):\n",
    "    prev = False\n",
    "    flips = 0\n",
    "    for a in arr:\n",
    "        if a != prev:\n",
    "            flips += 1\n",
    "            prev = a\n",
    "    return flips\n",
    "    \n",
    "def plot_selects(pickles_dir, plot_dir, trials=None):\n",
    "    selects_plot_dir = os.path.join(plot_dir, \"selects\")\n",
    "    if not os.path.exists(selects_plot_dir):\n",
    "        os.makedirs(selects_plot_dir)\n",
    "    for filename in os.listdir(pickles_dir):\n",
    "        config = Config(filename)\n",
    "        if trials:\n",
    "            if config.trial not in trials:\n",
    "                continue\n",
    "        pickles_file = os.path.join(pickles_dir, filename)\n",
    "        with open(pickles_file, \"rb\") as handle:\n",
    "            d = pickle.load(handle)\n",
    "            flips = []\n",
    "            for image_id, selects in d.iteritems():\n",
    "                flips.append(count_flips(selects))\n",
    "            n, bins, patches = plt.hist(flips,\n",
    "                                        50,\n",
    "                                        normed=0,\n",
    "                                        alpha=0.75)\n",
    "        file_prefix = os.path.join(selects_plot_dir, filename)\n",
    "        format_plot(\"No. of switches over training\", \"No. of Images\")\n",
    "        write_file(file_prefix)\n",
    "    \n",
    "            "
   ]
  },
  {
   "cell_type": "code",
   "execution_count": 28,
   "metadata": {},
   "outputs": [],
   "source": [
    "def plot_experiment(experiment_dir,\n",
    "                    plot_dir,\n",
    "                    max_ids=0,\n",
    "                    run_image_id_hist = False,\n",
    "                    run_target_confidences = False,\n",
    "                    run_probability_timelines = False,\n",
    "                    run_probability_dist = False,\n",
    "                    run_losses_analysis = False,\n",
    "                    run_selects_analysis = False,\n",
    "                    trials=None):\n",
    "    pickles_dir = os.path.join(experiment_dir, \"pickles\")\n",
    "    if os.path.isdir(pickles_dir):\n",
    "        if run_probability_timelines:\n",
    "            probabilities_dir = os.path.join(pickles_dir, \"probabilities_by_image\")\n",
    "            if os.path.isdir(probabilities_dir):\n",
    "                plot_probability_timelines(probabilities_dir,\n",
    "                                           plot_dir,\n",
    "                                           max_ids=max_ids,\n",
    "                                           trials=trials)\n",
    "        if run_target_confidences:\n",
    "            target_confidences_dir = os.path.join(pickles_dir, \"target_confidences\")\n",
    "            if os.path.isdir(target_confidences_dir):\n",
    "                plot_confidence_distributions(target_confidences_dir, plot_dir, trials=trials)\n",
    "        if run_image_id_hist:\n",
    "            image_id_hist_dir = os.path.join(pickles_dir, \"image_id_hist\")\n",
    "            if os.path.isdir(image_id_hist_dir):\n",
    "                plot_image_distributions(image_id_hist_dir, plot_dir, trials=trials)\n",
    "        if run_probability_dist:\n",
    "            probability_dist_dir = os.path.join(pickles_dir, \"probabilities_by_image\")\n",
    "            if os.path.isdir(probability_dist_dir):\n",
    "                plot_probability_distributions(probability_dist_dir, plot_dir, trials=trials)\n",
    "        if run_losses_analysis:\n",
    "            losses_dir = os.path.join(pickles_dir, \"losses\")\n",
    "            if os.path.isdir(losses_dir):\n",
    "                plot_losses_cdf(losses_dir, plot_dir, trials=trials)\n",
    "                plot_loss_timelines(losses_dir, plot_dir, trials=trials, max_ids=max_ids)\n",
    "        if run_selects_analysis:\n",
    "            selects_dir = os.path.join(pickles_dir, \"selects_by_image\")\n",
    "            if os.path.isdir(selects_dir):\n",
    "                plot_selects(selects_dir, plot_dir, trials=trials)\n",
    "            \n",
    "\n",
    "%matplotlib inline"
   ]
  },
  {
   "cell_type": "code",
   "execution_count": 82,
   "metadata": {},
   "outputs": [
    {
     "name": "stdout",
     "output_type": "stream",
     "text": [
      "In plot_probability_timelines for ../plots/batch_stats/190514_selects_2/190514_2\n",
      "sampling\n",
      "Probability timeline: ../plots/batch_stats/190514_selects_2/190514_2/probabilities_by_image/sampling-mobilenetv2-Min0.0\n",
      "sampling\n",
      "Analyzing stdevs for sampling, mobilenetv2, Min: 0.0\n",
      "sampling\n",
      "Images from sample with highest stdev\n"
     ]
    },
    {
     "data": {
      "image/png": "[encoded data removed]",
      "text/plain": [
       "<IPython.core.display.Image object>"
      ]
     },
     "metadata": {},
     "output_type": "display_data"
    },
    {
     "data": {
      "image/png": "[encoded data removed]",
      "text/plain": [
       "<IPython.core.display.Image object>"
      ]
     },
     "metadata": {},
     "output_type": "display_data"
    },
    {
     "data": {
      "image/png": "[encoded data removed]",
      "text/plain": [
       "<IPython.core.display.Image object>"
      ]
     },
     "metadata": {},
     "output_type": "display_data"
    },
    {
     "data": {
      "image/png": "[encoded data removed]",
      "text/plain": [
       "<IPython.core.display.Image object>"
      ]
     },
     "metadata": {},
     "output_type": "display_data"
    },
    {
     "data": {
      "image/png": "[encoded data removed]",
      "text/plain": [
       "<IPython.core.display.Image object>"
      ]
     },
     "metadata": {},
     "output_type": "display_data"
    },
    {
     "data": {
      "image/png": "[encoded data removed]",
      "text/plain": [
       "<IPython.core.display.Image object>"
      ]
     },
     "metadata": {},
     "output_type": "display_data"
    },
    {
     "name": "stdout",
     "output_type": "stream",
     "text": [
      "Images from sample with lowest stdev\n"
     ]
    },
    {
     "data": {
      "image/png": "[encoded data removed]",
      "text/plain": [
       "<IPython.core.display.Image object>"
      ]
     },
     "metadata": {},
     "output_type": "display_data"
    },
    {
     "data": {
      "image/png": "[encoded data removed]",
      "text/plain": [
       "<IPython.core.display.Image object>"
      ]
     },
     "metadata": {},
     "output_type": "display_data"
    },
    {
     "data": {
      "image/png": "[encoded data removed]",
      "text/plain": [
       "<IPython.core.display.Image object>"
      ]
     },
     "metadata": {},
     "output_type": "display_data"
    },
    {
     "data": {
      "image/png": "[encoded data removed]",
      "text/plain": [
       "<IPython.core.display.Image object>"
      ]
     },
     "metadata": {},
     "output_type": "display_data"
    },
    {
     "data": {
      "image/png": "[encoded data removed]",
      "text/plain": [
       "<IPython.core.display.Image object>"
      ]
     },
     "metadata": {},
     "output_type": "display_data"
    },
    {
     "data": {
      "image/png": "[encoded data removed]",
      "text/plain": [
       "<IPython.core.display.Image object>"
      ]
     },
     "metadata": {},
     "output_type": "display_data"
    },
    {
     "name": "stdout",
     "output_type": "stream",
     "text": [
      "sampling\n",
      "Probability timeline: ../plots/batch_stats/190514_selects_2/190514_2/probabilities_by_image/sampling-mobilenetv2-Min1.0\n",
      "sampling\n",
      "Analyzing stdevs for sampling, mobilenetv2, Min: 1.0\n",
      "sampling\n",
      "Images from sample with highest stdev\n"
     ]
    },
    {
     "data": {
      "image/png": "[encoded data removed]",
      "text/plain": [
       "<IPython.core.display.Image object>"
      ]
     },
     "metadata": {},
     "output_type": "display_data"
    },
    {
     "data": {
      "image/png": "[encoded data removed]",
      "text/plain": [
       "<IPython.core.display.Image object>"
      ]
     },
     "metadata": {},
     "output_type": "display_data"
    },
    {
     "data": {
      "image/png": "[encoded data removed]",
      "text/plain": [
       "<IPython.core.display.Image object>"
      ]
     },
     "metadata": {},
     "output_type": "display_data"
    },
    {
     "data": {
      "image/png": "[encoded data removed]",
      "text/plain": [
       "<IPython.core.display.Image object>"
      ]
     },
     "metadata": {},
     "output_type": "display_data"
    },
    {
     "data": {
      "image/png": "[encoded data removed]",
      "text/plain": [
       "<IPython.core.display.Image object>"
      ]
     },
     "metadata": {},
     "output_type": "display_data"
    },
    {
     "data": {
      "image/png": "[encoded data removed]",
      "text/plain": [
       "<IPython.core.display.Image object>"
      ]
     },
     "metadata": {},
     "output_type": "display_data"
    },
    {
     "name": "stdout",
     "output_type": "stream",
     "text": [
      "Images from sample with lowest stdev\n"
     ]
    },
    {
     "data": {
      "image/png": "[encoded data removed]",
      "text/plain": [
       "<IPython.core.display.Image object>"
      ]
     },
     "metadata": {},
     "output_type": "display_data"
    },
    {
     "data": {
      "image/png": "[encoded data removed]",
      "text/plain": [
       "<IPython.core.display.Image object>"
      ]
     },
     "metadata": {},
     "output_type": "display_data"
    },
    {
     "data": {
      "image/png": "[encoded data removed]",
      "text/plain": [
       "<IPython.core.display.Image object>"
      ]
     },
     "metadata": {},
     "output_type": "display_data"
    },
    {
     "data": {
      "image/png": "[encoded data removed]",
      "text/plain": [
       "<IPython.core.display.Image object>"
      ]
     },
     "metadata": {},
     "output_type": "display_data"
    },
    {
     "data": {
      "image/png": "[encoded data removed]",
      "text/plain": [
       "<IPython.core.display.Image object>"
      ]
     },
     "metadata": {},
     "output_type": "display_data"
    },
    {
     "data": {
      "image/png": "[encoded data removed]",
      "text/plain": [
       "<IPython.core.display.Image object>"
      ]
     },
     "metadata": {},
     "output_type": "display_data"
    },
    {
     "name": "stdout",
     "output_type": "stream",
     "text": [
      "(0.01, 0.005181303405761719, 55.647582262355186)\n",
      "(0.1, 0.05181303405761719, 66.35220501593024)\n",
      "(0.5, 0.25906517028808596, 75.07803779754151)\n",
      "(1, 0.5181303405761719, 80.24499446684528)\n",
      "In plot_loss_timelines for ../plots/batch_stats/190514_selects_2/190514_2\n",
      "Parsing kath-biased_cifar10_mobilenetv2_1_128_512_0.0005_trial1_seed1337_losses.epoch_0.pickle\n",
      "Parsing kath-biased_cifar10_mobilenetv2_1_128_512_0.0005_trial1_seed1337_losses.epoch_10.pickle\n",
      "Parsing kath-biased_cifar10_mobilenetv2_1_128_512_0.0005_trial1_seed1337_losses.epoch_100.pickle\n",
      "Parsing kath-biased_cifar10_mobilenetv2_1_128_512_0.0005_trial1_seed1337_losses.epoch_110.pickle\n",
      "Parsing kath-biased_cifar10_mobilenetv2_1_128_512_0.0005_trial1_seed1337_losses.epoch_120.pickle\n",
      "Parsing kath-biased_cifar10_mobilenetv2_1_128_512_0.0005_trial1_seed1337_losses.epoch_130.pickle\n",
      "Parsing kath-biased_cifar10_mobilenetv2_1_128_512_0.0005_trial1_seed1337_losses.epoch_140.pickle\n",
      "Parsing kath-biased_cifar10_mobilenetv2_1_128_512_0.0005_trial1_seed1337_losses.epoch_150.pickle\n",
      "Parsing kath-biased_cifar10_mobilenetv2_1_128_512_0.0005_trial1_seed1337_losses.epoch_20.pickle\n",
      "Parsing kath-biased_cifar10_mobilenetv2_1_128_512_0.0005_trial1_seed1337_losses.epoch_30.pickle\n",
      "Parsing kath-biased_cifar10_mobilenetv2_1_128_512_0.0005_trial1_seed1337_losses.epoch_40.pickle\n",
      "Parsing kath-biased_cifar10_mobilenetv2_1_128_512_0.0005_trial1_seed1337_losses.epoch_50.pickle\n",
      "Parsing kath-biased_cifar10_mobilenetv2_1_128_512_0.0005_trial1_seed1337_losses.epoch_60.pickle\n",
      "Parsing kath-biased_cifar10_mobilenetv2_1_128_512_0.0005_trial1_seed1337_losses.epoch_70.pickle\n",
      "Parsing kath-biased_cifar10_mobilenetv2_1_128_512_0.0005_trial1_seed1337_losses.epoch_80.pickle\n",
      "Parsing kath-biased_cifar10_mobilenetv2_1_128_512_0.0005_trial1_seed1337_losses.epoch_90.pickle\n",
      "Parsing kath-reweighted_cifar10_mobilenetv2_1_128_512_0.0005_trial1_seed1337_losses.epoch_0.pickle\n",
      "Parsing kath-reweighted_cifar10_mobilenetv2_1_128_512_0.0005_trial1_seed1337_losses.epoch_10.pickle\n",
      "Parsing kath-reweighted_cifar10_mobilenetv2_1_128_512_0.0005_trial1_seed1337_losses.epoch_100.pickle\n",
      "Parsing kath-reweighted_cifar10_mobilenetv2_1_128_512_0.0005_trial1_seed1337_losses.epoch_110.pickle\n",
      "Parsing kath-reweighted_cifar10_mobilenetv2_1_128_512_0.0005_trial1_seed1337_losses.epoch_120.pickle\n",
      "Parsing kath-reweighted_cifar10_mobilenetv2_1_128_512_0.0005_trial1_seed1337_losses.epoch_130.pickle\n",
      "Parsing kath-reweighted_cifar10_mobilenetv2_1_128_512_0.0005_trial1_seed1337_losses.epoch_140.pickle\n",
      "Parsing kath-reweighted_cifar10_mobilenetv2_1_128_512_0.0005_trial1_seed1337_losses.epoch_150.pickle\n",
      "Parsing kath-reweighted_cifar10_mobilenetv2_1_128_512_0.0005_trial1_seed1337_losses.epoch_20.pickle\n",
      "Parsing kath-reweighted_cifar10_mobilenetv2_1_128_512_0.0005_trial1_seed1337_losses.epoch_30.pickle\n",
      "Parsing kath-reweighted_cifar10_mobilenetv2_1_128_512_0.0005_trial1_seed1337_losses.epoch_40.pickle\n",
      "Parsing kath-reweighted_cifar10_mobilenetv2_1_128_512_0.0005_trial1_seed1337_losses.epoch_50.pickle\n",
      "Parsing kath-reweighted_cifar10_mobilenetv2_1_128_512_0.0005_trial1_seed1337_losses.epoch_60.pickle\n",
      "Parsing kath-reweighted_cifar10_mobilenetv2_1_128_512_0.0005_trial1_seed1337_losses.epoch_70.pickle\n",
      "Parsing kath-reweighted_cifar10_mobilenetv2_1_128_512_0.0005_trial1_seed1337_losses.epoch_80.pickle\n",
      "Parsing kath-reweighted_cifar10_mobilenetv2_1_128_512_0.0005_trial1_seed1337_losses.epoch_90.pickle\n",
      "Parsing sampling_cifar10_mobilenetv2_0_128_1024_0.0005_trial1_seed1337_losses.epoch_0.pickle\n",
      "Parsing sampling_cifar10_mobilenetv2_0_128_1024_0.0005_trial1_seed1337_losses.epoch_10.pickle\n",
      "Parsing sampling_cifar10_mobilenetv2_0_128_1024_0.0005_trial1_seed1337_losses.epoch_100.pickle\n",
      "Parsing sampling_cifar10_mobilenetv2_0_128_1024_0.0005_trial1_seed1337_losses.epoch_110.pickle\n",
      "Parsing sampling_cifar10_mobilenetv2_0_128_1024_0.0005_trial1_seed1337_losses.epoch_120.pickle\n",
      "Parsing sampling_cifar10_mobilenetv2_0_128_1024_0.0005_trial1_seed1337_losses.epoch_130.pickle\n",
      "Parsing sampling_cifar10_mobilenetv2_0_128_1024_0.0005_trial1_seed1337_losses.epoch_140.pickle\n",
      "Parsing sampling_cifar10_mobilenetv2_0_128_1024_0.0005_trial1_seed1337_losses.epoch_150.pickle\n",
      "Parsing sampling_cifar10_mobilenetv2_0_128_1024_0.0005_trial1_seed1337_losses.epoch_160.pickle\n",
      "Parsing sampling_cifar10_mobilenetv2_0_128_1024_0.0005_trial1_seed1337_losses.epoch_170.pickle\n",
      "Parsing sampling_cifar10_mobilenetv2_0_128_1024_0.0005_trial1_seed1337_losses.epoch_180.pickle\n",
      "Parsing sampling_cifar10_mobilenetv2_0_128_1024_0.0005_trial1_seed1337_losses.epoch_190.pickle\n",
      "Parsing sampling_cifar10_mobilenetv2_0_128_1024_0.0005_trial1_seed1337_losses.epoch_20.pickle\n",
      "Parsing sampling_cifar10_mobilenetv2_0_128_1024_0.0005_trial1_seed1337_losses.epoch_200.pickle\n",
      "Parsing sampling_cifar10_mobilenetv2_0_128_1024_0.0005_trial1_seed1337_losses.epoch_210.pickle\n",
      "Parsing sampling_cifar10_mobilenetv2_0_128_1024_0.0005_trial1_seed1337_losses.epoch_220.pickle\n",
      "Parsing sampling_cifar10_mobilenetv2_0_128_1024_0.0005_trial1_seed1337_losses.epoch_230.pickle\n",
      "Parsing sampling_cifar10_mobilenetv2_0_128_1024_0.0005_trial1_seed1337_losses.epoch_240.pickle\n",
      "Parsing sampling_cifar10_mobilenetv2_0_128_1024_0.0005_trial1_seed1337_losses.epoch_250.pickle\n",
      "Parsing sampling_cifar10_mobilenetv2_0_128_1024_0.0005_trial1_seed1337_losses.epoch_260.pickle\n",
      "Parsing sampling_cifar10_mobilenetv2_0_128_1024_0.0005_trial1_seed1337_losses.epoch_270.pickle\n",
      "Parsing sampling_cifar10_mobilenetv2_0_128_1024_0.0005_trial1_seed1337_losses.epoch_280.pickle\n",
      "Parsing sampling_cifar10_mobilenetv2_0_128_1024_0.0005_trial1_seed1337_losses.epoch_290.pickle\n",
      "Parsing sampling_cifar10_mobilenetv2_0_128_1024_0.0005_trial1_seed1337_losses.epoch_30.pickle\n",
      "Parsing sampling_cifar10_mobilenetv2_0_128_1024_0.0005_trial1_seed1337_losses.epoch_300.pickle\n",
      "Parsing sampling_cifar10_mobilenetv2_0_128_1024_0.0005_trial1_seed1337_losses.epoch_310.pickle\n",
      "Parsing sampling_cifar10_mobilenetv2_0_128_1024_0.0005_trial1_seed1337_losses.epoch_320.pickle\n",
      "Parsing sampling_cifar10_mobilenetv2_0_128_1024_0.0005_trial1_seed1337_losses.epoch_330.pickle\n",
      "Parsing sampling_cifar10_mobilenetv2_0_128_1024_0.0005_trial1_seed1337_losses.epoch_340.pickle\n",
      "Parsing sampling_cifar10_mobilenetv2_0_128_1024_0.0005_trial1_seed1337_losses.epoch_350.pickle\n",
      "Parsing sampling_cifar10_mobilenetv2_0_128_1024_0.0005_trial1_seed1337_losses.epoch_360.pickle\n",
      "Parsing sampling_cifar10_mobilenetv2_0_128_1024_0.0005_trial1_seed1337_losses.epoch_370.pickle\n",
      "Parsing sampling_cifar10_mobilenetv2_0_128_1024_0.0005_trial1_seed1337_losses.epoch_380.pickle\n",
      "Parsing sampling_cifar10_mobilenetv2_0_128_1024_0.0005_trial1_seed1337_losses.epoch_390.pickle\n",
      "Parsing sampling_cifar10_mobilenetv2_0_128_1024_0.0005_trial1_seed1337_losses.epoch_40.pickle\n",
      "Parsing sampling_cifar10_mobilenetv2_0_128_1024_0.0005_trial1_seed1337_losses.epoch_400.pickle\n",
      "Parsing sampling_cifar10_mobilenetv2_0_128_1024_0.0005_trial1_seed1337_losses.epoch_410.pickle\n",
      "Parsing sampling_cifar10_mobilenetv2_0_128_1024_0.0005_trial1_seed1337_losses.epoch_420.pickle\n",
      "Parsing sampling_cifar10_mobilenetv2_0_128_1024_0.0005_trial1_seed1337_losses.epoch_430.pickle\n",
      "Parsing sampling_cifar10_mobilenetv2_0_128_1024_0.0005_trial1_seed1337_losses.epoch_440.pickle\n",
      "Parsing sampling_cifar10_mobilenetv2_0_128_1024_0.0005_trial1_seed1337_losses.epoch_450.pickle\n",
      "Parsing sampling_cifar10_mobilenetv2_0_128_1024_0.0005_trial1_seed1337_losses.epoch_460.pickle\n",
      "Parsing sampling_cifar10_mobilenetv2_0_128_1024_0.0005_trial1_seed1337_losses.epoch_50.pickle\n",
      "Parsing sampling_cifar10_mobilenetv2_0_128_1024_0.0005_trial1_seed1337_losses.epoch_60.pickle\n",
      "Parsing sampling_cifar10_mobilenetv2_0_128_1024_0.0005_trial1_seed1337_losses.epoch_70.pickle\n",
      "Parsing sampling_cifar10_mobilenetv2_0_128_1024_0.0005_trial1_seed1337_losses.epoch_80.pickle\n",
      "Parsing sampling_cifar10_mobilenetv2_0_128_1024_0.0005_trial1_seed1337_losses.epoch_90.pickle\n",
      "Parsing sampling_cifar10_mobilenetv2_1_128_1024_0.0005_trial1_seed1337_losses.epoch_0.pickle\n",
      "Parsing sampling_cifar10_mobilenetv2_1_128_1024_0.0005_trial1_seed1337_losses.epoch_10.pickle\n",
      "Parsing sampling_cifar10_mobilenetv2_1_128_1024_0.0005_trial1_seed1337_losses.epoch_100.pickle\n",
      "Parsing sampling_cifar10_mobilenetv2_1_128_1024_0.0005_trial1_seed1337_losses.epoch_110.pickle\n",
      "Parsing sampling_cifar10_mobilenetv2_1_128_1024_0.0005_trial1_seed1337_losses.epoch_20.pickle\n",
      "Parsing sampling_cifar10_mobilenetv2_1_128_1024_0.0005_trial1_seed1337_losses.epoch_30.pickle\n",
      "Parsing sampling_cifar10_mobilenetv2_1_128_1024_0.0005_trial1_seed1337_losses.epoch_40.pickle\n",
      "Parsing sampling_cifar10_mobilenetv2_1_128_1024_0.0005_trial1_seed1337_losses.epoch_50.pickle\n",
      "Parsing sampling_cifar10_mobilenetv2_1_128_1024_0.0005_trial1_seed1337_losses.epoch_60.pickle\n",
      "Parsing sampling_cifar10_mobilenetv2_1_128_1024_0.0005_trial1_seed1337_losses.epoch_70.pickle\n",
      "Parsing sampling_cifar10_mobilenetv2_1_128_1024_0.0005_trial1_seed1337_losses.epoch_80.pickle\n",
      "Parsing sampling_cifar10_mobilenetv2_1_128_1024_0.0005_trial1_seed1337_losses.epoch_90.pickle\n",
      "Plotting image_id 0\n",
      "Plotting image_id 1\n",
      "Plotting image_id 2\n",
      "Plotting image_id 3\n"
     ]
    },
    {
     "name": "stdout",
     "output_type": "stream",
     "text": [
      "Plotting image_id 4\n",
      "sampling\n",
      "Loss timeline: ../plots/batch_stats/190514_selects_2/190514_2/losses_by_image\n",
      "In plot_probability_timelines for ../plots/batch_stats/190514_selects_2/190517_baseline_selectprobs\n",
      "sampling\n",
      "Probability timeline: ../plots/batch_stats/190514_selects_2/190517_baseline_selectprobs/probabilities_by_image/sampling-mobilenetv2-Min0.0\n",
      "sampling\n",
      "Analyzing stdevs for sampling, mobilenetv2, Min: 0.0\n",
      "sampling\n",
      "Images from sample with highest stdev\n"
     ]
    },
    {
     "data": {
      "image/png": "[encoded data removed]",
      "text/plain": [
       "<IPython.core.display.Image object>"
      ]
     },
     "metadata": {},
     "output_type": "display_data"
    },
    {
     "data": {
      "image/png": "[encoded data removed]",
      "text/plain": [
       "<IPython.core.display.Image object>"
      ]
     },
     "metadata": {},
     "output_type": "display_data"
    },
    {
     "data": {
      "image/png": "[encoded data removed]",
      "text/plain": [
       "<IPython.core.display.Image object>"
      ]
     },
     "metadata": {},
     "output_type": "display_data"
    },
    {
     "data": {
      "image/png": "[encoded data removed]",
      "text/plain": [
       "<IPython.core.display.Image object>"
      ]
     },
     "metadata": {},
     "output_type": "display_data"
    },
    {
     "data": {
      "image/png": "[encoded data removed]",
      "text/plain": [
       "<IPython.core.display.Image object>"
      ]
     },
     "metadata": {},
     "output_type": "display_data"
    },
    {
     "data": {
      "image/png": "[encoded data removed]",
      "text/plain": [
       "<IPython.core.display.Image object>"
      ]
     },
     "metadata": {},
     "output_type": "display_data"
    },
    {
     "name": "stdout",
     "output_type": "stream",
     "text": [
      "Images from sample with lowest stdev\n"
     ]
    },
    {
     "data": {
      "image/png": "[encoded data removed]",
      "text/plain": [
       "<IPython.core.display.Image object>"
      ]
     },
     "metadata": {},
     "output_type": "display_data"
    },
    {
     "data": {
      "image/png": "[encoded data removed]",
      "text/plain": [
       "<IPython.core.display.Image object>"
      ]
     },
     "metadata": {},
     "output_type": "display_data"
    },
    {
     "data": {
      "image/png": "[encoded data removed]",
      "text/plain": [
       "<IPython.core.display.Image object>"
      ]
     },
     "metadata": {},
     "output_type": "display_data"
    },
    {
     "data": {
      "image/png": "[encoded data removed]",
      "text/plain": [
       "<IPython.core.display.Image object>"
      ]
     },
     "metadata": {},
     "output_type": "display_data"
    },
    {
     "data": {
      "image/png": "[encoded data removed]",
      "text/plain": [
       "<IPython.core.display.Image object>"
      ]
     },
     "metadata": {},
     "output_type": "display_data"
    },
    {
     "data": {
      "image/png": "[encoded data removed]",
      "text/plain": [
       "<IPython.core.display.Image object>"
      ]
     },
     "metadata": {},
     "output_type": "display_data"
    },
    {
     "name": "stdout",
     "output_type": "stream",
     "text": [
      "(0.01, 0.0012450904846191407, 38.217)\n",
      "(0.1, 0.012450904846191407, 57.322833333333335)\n",
      "(0.5, 0.06225452423095703, 68.685)\n",
      "(1, 0.12450904846191406, 73.2595)\n",
      "In plot_loss_timelines for ../plots/batch_stats/190514_selects_2/190517_baseline_selectprobs\n",
      "Parsing sampling_cifar10_mobilenetv2_0_128_1024_0.0005_trial1_seed1337_losses.epoch_0.pickle\n",
      "Parsing sampling_cifar10_mobilenetv2_0_128_1024_0.0005_trial1_seed1337_losses.epoch_10.pickle\n",
      "Parsing sampling_cifar10_mobilenetv2_0_128_1024_0.0005_trial1_seed1337_losses.epoch_100.pickle\n",
      "Parsing sampling_cifar10_mobilenetv2_0_128_1024_0.0005_trial1_seed1337_losses.epoch_110.pickle\n",
      "Parsing sampling_cifar10_mobilenetv2_0_128_1024_0.0005_trial1_seed1337_losses.epoch_20.pickle\n",
      "Parsing sampling_cifar10_mobilenetv2_0_128_1024_0.0005_trial1_seed1337_losses.epoch_30.pickle\n",
      "Parsing sampling_cifar10_mobilenetv2_0_128_1024_0.0005_trial1_seed1337_losses.epoch_40.pickle\n",
      "Parsing sampling_cifar10_mobilenetv2_0_128_1024_0.0005_trial1_seed1337_losses.epoch_50.pickle\n",
      "Parsing sampling_cifar10_mobilenetv2_0_128_1024_0.0005_trial1_seed1337_losses.epoch_60.pickle\n",
      "Parsing sampling_cifar10_mobilenetv2_0_128_1024_0.0005_trial1_seed1337_losses.epoch_70.pickle\n",
      "Parsing sampling_cifar10_mobilenetv2_0_128_1024_0.0005_trial1_seed1337_losses.epoch_80.pickle\n",
      "Parsing sampling_cifar10_mobilenetv2_0_128_1024_0.0005_trial1_seed1337_losses.epoch_90.pickle\n",
      "Plotting image_id 0\n",
      "Plotting image_id 1\n",
      "Plotting image_id 2\n",
      "Plotting image_id 3\n",
      "Plotting image_id 4\n",
      "sampling\n",
      "Loss timeline: ../plots/batch_stats/190514_selects_2/190517_baseline_selectprobs/losses_by_image\n"
     ]
    },
    {
     "data": {
      "text/plain": [
       "<Figure size 432x288 with 0 Axes>"
      ]
     },
     "metadata": {},
     "output_type": "display_data"
    }
   ],
   "source": [
    "plot_home_dir = \"../plots/batch_stats\"\n",
    "\n",
    "experiment_batch_name = \"190514_selects_2\"\n",
    "plot_home_dir += \"/{}\".format(experiment_batch_name)\n",
    "\n",
    "experiment_names = [\"190514_2\", \"190517_baseline_selectprobs\"]\n",
    "for experiment_name in experiment_names:\n",
    "    experiment_dir = \"../data/output/cifar10/{}\".format(experiment_name)\n",
    "    plot_dir = \"{}/{}\".format(plot_home_dir, experiment_name)\n",
    "    if not os.path.exists(plot_dir):\n",
    "        os.makedirs(plot_dir)\n",
    "    plot_experiment(experiment_dir,\n",
    "                    plot_dir,\n",
    "                    trials=[1],\n",
    "                    max_ids=5,\n",
    "                    run_selects_analysis=False,\n",
    "                    run_probability_timelines=True,\n",
    "                    run_losses_analysis=True)"
   ]
  },
  {
   "cell_type": "code",
   "execution_count": null,
   "metadata": {},
   "outputs": [],
   "source": []
  }
 ],
 "metadata": {
  "kernelspec": {
   "display_name": "Python 2",
   "language": "python",
   "name": "python2"
  },
  "language_info": {
   "codemirror_mode": {
    "name": "ipython",
    "version": 2
   },
   "file_extension": ".py",
   "mimetype": "text/x-python",
   "name": "python",
   "nbconvert_exporter": "python",
   "pygments_lexer": "ipython2",
   "version": "2.7.14"
  }
 },
 "nbformat": 4,
 "nbformat_minor": 2
}
