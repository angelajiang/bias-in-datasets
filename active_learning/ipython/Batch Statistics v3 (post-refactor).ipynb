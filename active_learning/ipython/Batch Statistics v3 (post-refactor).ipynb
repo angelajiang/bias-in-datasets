{
 "cells": [
  {
   "cell_type": "code",
   "execution_count": 68,
   "metadata": {},
   "outputs": [],
   "source": [
    "import seaborn as sns\n",
    "import itertools\n",
    "import tensorflow as tf\n",
    "import numpy as np\n",
    "import matplotlib.mlab as mlab\n",
    "import matplotlib.pyplot as plt\n",
    "import cPickle as pickle\n",
    "import os\n",
    "import seaborn as sns\n",
    "from IPython.display import Image, display\n",
    "from sklearn import metrics\n",
    "\n",
    "\n",
    "sns.set_style(\"white\")\n",
    "sns.set_palette(\"husl\")\n",
    "\n",
    "class Config:\n",
    "    #MATCHER = (\"^(.*)_(.*)_(.*)_(.*)_(\\d+)_(\\d*\\.?\\d*)_(\\d*\\.?\\d*)(_trial\\d+)?(_epoch\\d+)?\")\n",
    "    MATCHER = (\"^(.*)_(.*)_(.*)_(.*)_(\\d+)_(\\d*\\.?\\d*)_(\\d*\\.?\\d*)(_trial\\d+)(_seed\\d+)(_epoch\\d+)?\")\n",
    "\n",
    "    def __init__(self, filename):\n",
    "        groups = self.matches(filename)\n",
    "        self.strategy = groups[0]\n",
    "        self.dataset = groups[1]\n",
    "        self.network = groups[2]\n",
    "        self.top_k = float(groups[3])\n",
    "        self.pool_size = int(groups[4])\n",
    "        self.lr = float(groups[5])\n",
    "        self.decay = float(groups[6])\n",
    "        self.trial = None\n",
    "        self.epoch = None\n",
    "        if groups[7]:\n",
    "            unparsed_trial = groups[7]\n",
    "            self.trial = int(unparsed_trial.strip(\"_trial\"))\n",
    "        if groups[9]:\n",
    "            unparsed_epoch = groups[8]\n",
    "            self.epoch = int(unparsed_epoch.strip(\"_epoch\"))\n",
    "\n",
    "\n",
    "    def matches(self, filename):\n",
    "        import re\n",
    "        return (re.match(Config.MATCHER, filename)).groups()\n",
    "\n",
    "    @property\n",
    "    def label(self):\n",
    "        print(self.strategy)\n",
    "        if self.strategy == \"topk\":\n",
    "            label = \"{}, {}, top_{}/{}\".format(self.strategy,\n",
    "                                                      self.network,\n",
    "                                                      self.top_k,\n",
    "                                                      self.pool_size)\n",
    "        elif self.strategy == \"lowk\":\n",
    "            label = \"{}, {}, lowest_{}/{}\".format(self.strategy,\n",
    "                                                      self.network,\n",
    "                                                      self.top_k,\n",
    "                                                      self.pool_size)\n",
    "        elif self.strategy == \"randomk\":\n",
    "            label = \"{}, {}, random_{}/{}\".format(self.strategy,\n",
    "                                                      self.network,\n",
    "                                                      self.top_k,\n",
    "                                                      self.pool_size)\n",
    "        elif self.strategy == \"kath\":\n",
    "            label = \"{}, {}, {}/{}\".format(self.strategy,\n",
    "                                                      self.network,\n",
    "                                                      self.top_k,\n",
    "                                                      self.pool_size)\n",
    "        elif self.strategy == \"sampling\" or self.strategy == \"deterministic\":\n",
    "            label = \"{}, {}, Min: {}\".format(self.strategy,\n",
    "                                                   self.network,\n",
    "                                                   self.top_k) \n",
    "        elif self.strategy == \"baseline\":\n",
    "            label = \"{}, {}\".format(self.strategy, self.network)    \n",
    "        else:\n",
    "            label = \"\"\n",
    "        if self.trial:\n",
    "            label += \", trial-{}\".format(self.trial)\n",
    "        if self.epoch:\n",
    "            label += \", epoch-{}\".format(self.epoch)\n",
    "        return label\n",
    "\n",
    "def write_file(plot_file_prefix):\n",
    "    plot_file = \"{}.pdf\".format(plot_file_prefix)\n",
    "    plt.savefig(plot_file)\n",
    "    \n",
    "    plot_file = \"{}.png\".format(plot_file_prefix)\n",
    "    plt.savefig(plot_file, format=\"png\", dpi=1000)\n",
    "    plt.clf()\n",
    "\n",
    "def get_percentiles(d, num_percentiles):\n",
    "    xs = np.arange(0, 100, 100./num_percentiles)\n",
    "    ys = [np.percentile(d, x) for x in xs]\n",
    "    return xs, ys\n",
    "            "
   ]
  },
  {
   "cell_type": "code",
   "execution_count": 60,
   "metadata": {},
   "outputs": [],
   "source": [
    "def plot_image_distributions(pickles_dir, plot_dir, trials=None, num_percentiles=100):\n",
    "    print(\"In plot_image_distributions for {}\".format(plot_dir))\n",
    "    for filename in os.listdir(pickles_dir):\n",
    "        config = Config(filename)\n",
    "\n",
    "        if trials:\n",
    "            if config.trial not in trials:\n",
    "                continue\n",
    "        pickles_file = os.path.join(pickles_dir, filename)\n",
    "        binwidth=1\n",
    "        with open(pickles_file, 'rb') as handle:\n",
    "            d = pickle.load(handle)\n",
    "            \n",
    "            # Plot histogram\n",
    "            n, bins, patches = plt.hist(d.values(),\n",
    "                                        bins=range(min(d.values()), max(d.values()) + binwidth, binwidth),\n",
    "                                        normed=0,\n",
    "                                        facecolor='green',\n",
    "                                        alpha=0.75)\n",
    "            \n",
    "            plt.title(config.label+\" Num backprops: {}\".format(sum(d.values())))\n",
    "            plt.xlim(0, max(d.values()) + 1)\n",
    "            plt.xlabel(\"Num backprops\")\n",
    "            plt.ylabel(\"Num images\")\n",
    "            subplot_dir = os.path.join(plot_dir, \"images_dist\")\n",
    "            if not os.path.isdir(subplot_dir):\n",
    "                os.mkdir(subplot_dir)\n",
    "            plt.tight_layout()\n",
    "            plot_prefix = os.path.join(subplot_dir, filename)\n",
    "            write_file(plot_prefix)\n",
    "            \n",
    "            # Plot percentiles\n",
    "            plt.clf()\n",
    "            xs, ys = get_percentiles(d.values(), num_percentiles)\n",
    "            plt.plot(xs, ys)\n",
    "            plt.title(config.label+\" Num backprops: {}\".format(sum(d.values())))\n",
    "            plt.xlabel(\"Percentile\")\n",
    "            plt.ylabel(\"Num backprops per image\")\n",
    "            subplot_dir = os.path.join(plot_dir, \"images_percentile\")\n",
    "            if not os.path.isdir(subplot_dir):\n",
    "                os.mkdir(subplot_dir)\n",
    "            plt.tight_layout()\n",
    "            plot_prefix = os.path.join(subplot_dir, filename)\n",
    "            write_file(plot_prefix)"
   ]
  },
  {
   "cell_type": "code",
   "execution_count": null,
   "metadata": {},
   "outputs": [],
   "source": [
    "def plot_confidence_distributions(pickles_dir, plot_dir, max_epoch=None, trials=None, num_percentiles=100):\n",
    "    print(\"In plot_confidence_distributions for {}\".format(plot_dir))\n",
    "    for filename in os.listdir(pickles_dir):\n",
    "        config = Config(filename)\n",
    "        if trials:\n",
    "            if config.trial not in trials:\n",
    "                continue\n",
    "        pickles_file = os.path.join(pickles_dir, filename)\n",
    "        binwidth=1\n",
    "        with open(pickles_file, 'rb') as handle:\n",
    "            print(pickles_file)\n",
    "            d = pickle.load(handle)\n",
    "            for epoch, data in d.iteritems():\n",
    "                if max_epoch is not None:\n",
    "                    if epoch > max_epoch:\n",
    "                        break\n",
    "                \n",
    "                # Plot histogram\n",
    "                probs = [int(c*100) for c in data[\"confidences\"]]\n",
    "                num_backpropped = data[\"num_backpropped\"]\n",
    "                n, bins, patches = plt.hist(probs,\n",
    "                                            bins=range(min(probs), max(probs) + binwidth, binwidth),\n",
    "                                            normed=0,\n",
    "                                            facecolor='green',\n",
    "                                            alpha=0.75)\n",
    "                plt.title(\"{}, {} backpropped\".format(config.label, num_backpropped))\n",
    "                plt.xlabel(\"Probability of target\")\n",
    "                plt.ylabel(\"Frequency\")\n",
    "                subplot_dir = os.path.join(plot_dir, \"target_confidences\")\n",
    "                if not os.path.isdir(subplot_dir):\n",
    "                    os.mkdir(subplot_dir)\n",
    "                plot_prefix = os.path.join(subplot_dir, \"{}_epoch{}_{}backpropped\".format(filename,\n",
    "                                                                              epoch,\n",
    "                                                                              num_backpropped))\n",
    "                          \n",
    "                plt.tight_layout()\n",
    "                write_file(plot_prefix)\n",
    "                          \n",
    "                # Plot percentiles\n",
    "                plt.clf()\n",
    "                xs, ys = get_percentiles(probs, num_percentiles)\n",
    "                plt.plot(xs, ys)\n",
    "                auc = metrics.auc(xs, ys)\n",
    "                plt.title(config.label+\" AUC: {}\".format(auc))\n",
    "                plt.xlabel(\"Percentile\")\n",
    "                plt.ylabel(\"Target confidence\")\n",
    "                subplot_dir = os.path.join(plot_dir, \"target_confidences_percentiles\")\n",
    "                if not os.path.isdir(subplot_dir):\n",
    "                    os.mkdir(subplot_dir)\n",
    "                plt.tight_layout()\n",
    "                plot_prefix = os.path.join(subplot_dir, \"{}_epoch{}_{}backpropped\".format(filename,\n",
    "                                                                                          epoch,\n",
    "                                                                                          num_backpropped))\n",
    "                write_file(plot_prefix)\n",
    "\n",
    "                # Wow, hack\n",
    "                random_data_dir = os.path.join(subplot_dir, \"data\")\n",
    "                if not os.path.isdir(random_data_dir):\n",
    "                    os.mkdir(random_data_dir)\n",
    "                extra_filename = \"{}_epoch{}_{}backpropped.txt\".format(filename,\n",
    "                                                                       epoch,\n",
    "                                                                       num_backpropped)\n",
    "                print(\"Extra filename: {}\".format(extra_filename))\n",
    "                with open(extra_filename, \"w+\") as f:\n",
    "                    for x, y in zip(xs, ys):\n",
    "                        line = \"{},{}\\n\".format(x, y)\n",
    "                        f.write(line)\n",
    "                                        \n"
   ]
  },
  {
   "cell_type": "code",
   "execution_count": null,
   "metadata": {},
   "outputs": [],
   "source": [
    "def analyze_stdev(stdev_by_image_id, filename, src_dir=\"../data/images/cifar10_by_id\", top_k=10):\n",
    "    config = Config(filename)\n",
    "    print(\"Analyzing stdevs for {}\".format(config.label))\n",
    "    stdevs = stdev_by_image_id.values()\n",
    "    n, bins, patches = plt.hist(stdevs,\n",
    "                                10,\n",
    "                                normed=0,\n",
    "                                alpha=0.8)            \n",
    "    plt.title(config.label)\n",
    "    plt.xlabel(\"Probability stdev\")\n",
    "    plt.ylabel(\"Frequency\")\n",
    "\n",
    "    subplot_dir = os.path.join(plot_dir, \"probabilities_by_image\")\n",
    "    if not os.path.isdir(subplot_dir):\n",
    "        os.mkdir(subplot_dir)\n",
    "    plt.tight_layout()\n",
    "    plot_prefix = os.path.join(subplot_dir, filename + \"_stdev\")\n",
    "    write_file(plot_prefix)\n",
    "\n",
    "    sorted_ids = sorted(stdev_by_image_id, key=lambda k: stdev_by_image_id[k])\n",
    "    \n",
    "    # Show image_ids with highest stdev\n",
    "    print(\"Images from sample with highest stdev\")\n",
    "    for image_id in list(reversed(sorted_ids))[:top_k]:\n",
    "        src_file = os.path.join(src_dir, \"image-{}.png\".format(image_id))\n",
    "        display(Image(filename=src_file))\n",
    "\n",
    "    # Show image_ids with lowest stdev\n",
    "    print(\"Images from sample with lowest stdev\")\n",
    "    for image_id in sorted_ids[:top_k]:\n",
    "        src_file = os.path.join(src_dir, \"image-{}.png\".format(image_id))\n",
    "        display(Image(filename=src_file))\n",
    "              "
   ]
  },
  {
   "cell_type": "code",
   "execution_count": null,
   "metadata": {},
   "outputs": [],
   "source": [
    "def plot_probability_timelines(pickles_dir, plot_dir, max_ids=None, trials=None):\n",
    "    print(\"In plot_probability_timelines for {}\".format(plot_dir))\n",
    "    palette = itertools.cycle(sns.color_palette())\n",
    "\n",
    "    for filename in os.listdir(pickles_dir):\n",
    "        config = Config(filename)\n",
    "        if trials:\n",
    "            if config.trial not in trials:\n",
    "                continue\n",
    "        pickles_file = os.path.join(pickles_dir, filename)\n",
    "        with open(pickles_file, 'rb') as handle:\n",
    "            d = pickle.load(handle)\n",
    "            stdev_by_image_id = {}\n",
    "            for image_id, ys in d.iteritems():\n",
    "                xs = range(len(ys))\n",
    "                stdev_by_image_id[image_id] = np.std(ys)\n",
    "                if max_ids <= image_id:\n",
    "                    break\n",
    "                plt.plot(xs, ys, color=next(palette))\n",
    "            plt.title(config.label)\n",
    "            plt.xlabel(\"Epochs\")\n",
    "            plt.ylabel(\"Select Probability\")\n",
    "\n",
    "            subplot_dir = os.path.join(plot_dir, \"probabilities_by_image\")\n",
    "            if not os.path.isdir(subplot_dir):\n",
    "                os.mkdir(subplot_dir)\n",
    "            plot_prefix = os.path.join(subplot_dir, filename)\n",
    "            plt.tight_layout()\n",
    "            write_file(plot_prefix)\n",
    "            \n",
    "           # analyze_standard_deviations\n",
    "            analyze_stdev(stdev_by_image_id, filename)"
   ]
  },
  {
   "cell_type": "code",
   "execution_count": null,
   "metadata": {},
   "outputs": [],
   "source": [
    "def plot_probability_distributions(pickles_dir, plot_dir, max_ids=None, trials=None):\n",
    "    print(\"In plot_probability_timelines for {}\".format(plot_dir))\n",
    "    palette = itertools.cycle(sns.color_palette())\n",
    "\n",
    "    for filename in os.listdir(pickles_dir):\n",
    "        config = Config(filename)\n",
    "        if trials:\n",
    "            if config.trial not in trials:\n",
    "                continue\n",
    "        pickles_file = os.path.join(pickles_dir, filename)\n",
    "        with open(pickles_file, 'rb') as handle:\n",
    "            d = pickle.load(handle)\n",
    "            probs = []\n",
    "            for arr in d.values():\n",
    "                probs.append(arr[-1])\n",
    "            n, bins, patches = plt.hist(probs,\n",
    "                                        50,\n",
    "                                        normed=0,\n",
    "                                        facecolor='green',\n",
    "                                        alpha=0.75)\n",
    "            \n",
    "            plt.title(\"{}, {} epochs\".format(config.label, len(probs)))\n",
    "            plt.xlabel(\"Select Probability\")\n",
    "            plt.ylabel(\"Distribution\")\n",
    "            plt.show()\n"
   ]
  },
  {
   "cell_type": "code",
   "execution_count": 70,
   "metadata": {},
   "outputs": [],
   "source": [
    "def plot_experiment(experiment_dir,\n",
    "                    plot_dir,\n",
    "                    max_ids=0,\n",
    "                    run_image_id_hist = False,\n",
    "                    run_target_confidences = False,\n",
    "                    run_probability_timelines = False,\n",
    "                    run_probability_dist = False,\n",
    "                    trials=None):\n",
    "    pickles_dir = os.path.join(experiment_dir, \"pickles\")\n",
    "    if os.path.isdir(pickles_dir):\n",
    "        if run_probability_timelines:\n",
    "            probabilities_dir = os.path.join(pickles_dir, \"probabilities_by_image\")\n",
    "            if os.path.isdir(probabilities_dir):\n",
    "                plot_probability_timelines(probabilities_dir,\n",
    "                                           plot_dir,\n",
    "                                           max_ids=max_ids,\n",
    "                                           trials=trials)\n",
    "        if run_target_confidences:\n",
    "            target_confidences_dir = os.path.join(pickles_dir, \"target_confidences\")\n",
    "            if os.path.isdir(target_confidences_dir):\n",
    "                plot_confidence_distributions(target_confidences_dir, plot_dir, trials=trials)\n",
    "        if run_image_id_hist:\n",
    "            image_id_hist_dir = os.path.join(pickles_dir, \"image_id_hist\")\n",
    "            if os.path.isdir(image_id_hist_dir):\n",
    "                plot_image_distributions(image_id_hist_dir, plot_dir, trials=trials)\n",
    "        if run_probability_dist:\n",
    "            probability_dist_dir = os.path.join(pickles_dir, \"probabilities_by_image\")\n",
    "            if os.path.isdir(probability_dist_dir):\n",
    "                plot_probability_distributions(probability_dist_dir, plot_dir, trials=trials)\n",
    "            \n",
    "\n",
    "%matplotlib inline"
   ]
  },
  {
   "cell_type": "code",
   "execution_count": 71,
   "metadata": {},
   "outputs": [
    {
     "name": "stdout",
     "output_type": "stream",
     "text": [
      "In plot_probability_timelines for ../plots/batch_stats/181208_net/181208_net\n",
      "deterministic\n",
      "deterministic\n",
      "Analyzing stdevs for deterministic, densenet, Min: 0.1, trial-1\n",
      "deterministic\n",
      "Images from sample with highest stdev\n"
     ]
    },
    {
     "data": {
      "image/png": "[encoded data removed]",
      "text/plain": [
       "<IPython.core.display.Image object>"
      ]
     },
     "metadata": {},
     "output_type": "display_data"
    },
    {
     "name": "stdout",
     "output_type": "stream",
     "text": [
      "Images from sample with lowest stdev\n"
     ]
    },
    {
     "data": {
      "image/png": "[encoded data removed]",
      "text/plain": [
       "<IPython.core.display.Image object>"
      ]
     },
     "metadata": {},
     "output_type": "display_data"
    },
    {
     "name": "stdout",
     "output_type": "stream",
     "text": [
      "deterministic\n",
      "deterministic\n",
      "Analyzing stdevs for deterministic, densenet, Min: 1.0, trial-1\n",
      "deterministic\n",
      "Images from sample with highest stdev\n"
     ]
    },
    {
     "data": {
      "image/png": "[encoded data removed]",
      "text/plain": [
       "<IPython.core.display.Image object>"
      ]
     },
     "metadata": {},
     "output_type": "display_data"
    },
    {
     "name": "stdout",
     "output_type": "stream",
     "text": [
      "Images from sample with lowest stdev\n"
     ]
    },
    {
     "data": {
      "image/png": "[encoded data removed]",
      "text/plain": [
       "<IPython.core.display.Image object>"
      ]
     },
     "metadata": {},
     "output_type": "display_data"
    },
    {
     "name": "stdout",
     "output_type": "stream",
     "text": [
      "deterministic_cifar10\n",
      "deterministic_cifar10\n",
      "Analyzing stdevs for , trial-1\n",
      "deterministic_cifar10\n",
      "Images from sample with highest stdev\n"
     ]
    },
    {
     "data": {
      "image/png": "[encoded data removed]",
      "text/plain": [
       "<IPython.core.display.Image object>"
      ]
     },
     "metadata": {},
     "output_type": "display_data"
    },
    {
     "name": "stdout",
     "output_type": "stream",
     "text": [
      "Images from sample with lowest stdev\n"
     ]
    },
    {
     "data": {
      "image/png": "[encoded data removed]",
      "text/plain": [
       "<IPython.core.display.Image object>"
      ]
     },
     "metadata": {},
     "output_type": "display_data"
    },
    {
     "name": "stdout",
     "output_type": "stream",
     "text": [
      "deterministic_cifar10\n",
      "deterministic_cifar10\n",
      "Analyzing stdevs for , trial-1\n",
      "deterministic_cifar10\n",
      "Images from sample with highest stdev\n"
     ]
    },
    {
     "data": {
      "image/png": "[encoded data removed]",
      "text/plain": [
       "<IPython.core.display.Image object>"
      ]
     },
     "metadata": {},
     "output_type": "display_data"
    },
    {
     "name": "stdout",
     "output_type": "stream",
     "text": [
      "Images from sample with lowest stdev\n"
     ]
    },
    {
     "data": {
      "image/png": "[encoded data removed]",
      "text/plain": [
       "<IPython.core.display.Image object>"
      ]
     },
     "metadata": {},
     "output_type": "display_data"
    },
    {
     "name": "stdout",
     "output_type": "stream",
     "text": [
      "In plot_probability_timelines for ../plots/batch_stats/181208_net/181208_net\n",
      "deterministic\n"
     ]
    },
    {
     "data": {
      "image/png": "[encoded data removed]",
      "text/plain": [
       "<Figure size 432x288 with 1 Axes>"
      ]
     },
     "metadata": {},
     "output_type": "display_data"
    },
    {
     "name": "stdout",
     "output_type": "stream",
     "text": [
      "deterministic\n"
     ]
    },
    {
     "data": {
      "image/png": "[encoded data removed]",
      "text/plain": [
       "<Figure size 432x288 with 1 Axes>"
      ]
     },
     "metadata": {},
     "output_type": "display_data"
    },
    {
     "name": "stdout",
     "output_type": "stream",
     "text": [
      "deterministic_cifar10\n"
     ]
    },
    {
     "data": {
      "image/png": "[encoded data removed]",
      "text/plain": [
       "<Figure size 432x288 with 1 Axes>"
      ]
     },
     "metadata": {},
     "output_type": "display_data"
    },
    {
     "name": "stdout",
     "output_type": "stream",
     "text": [
      "deterministic_cifar10\n"
     ]
    },
    {
     "data": {
      "image/png": "[encoded data removed]",
      "text/plain": [
       "<Figure size 432x288 with 1 Axes>"
      ]
     },
     "metadata": {},
     "output_type": "display_data"
    },
    {
     "name": "stdout",
     "output_type": "stream",
     "text": [
      "In plot_probability_timelines for ../plots/batch_stats/181208_net/181115_seedednew_aug\n",
      "deterministic\n",
      "deterministic\n",
      "Analyzing stdevs for deterministic, resnet, Min: 0.1, trial-1\n",
      "deterministic\n",
      "Images from sample with highest stdev\n"
     ]
    },
    {
     "data": {
      "image/png": "[encoded data removed]",
      "text/plain": [
       "<IPython.core.display.Image object>"
      ]
     },
     "metadata": {},
     "output_type": "display_data"
    },
    {
     "name": "stdout",
     "output_type": "stream",
     "text": [
      "Images from sample with lowest stdev\n"
     ]
    },
    {
     "data": {
      "image/png": "[encoded data removed]",
      "text/plain": [
       "<IPython.core.display.Image object>"
      ]
     },
     "metadata": {},
     "output_type": "display_data"
    },
    {
     "name": "stdout",
     "output_type": "stream",
     "text": [
      "deterministic\n",
      "deterministic\n",
      "Analyzing stdevs for deterministic, resnet, Min: 1.0, trial-1\n",
      "deterministic\n",
      "Images from sample with highest stdev\n"
     ]
    },
    {
     "data": {
      "image/png": "[encoded data removed]",
      "text/plain": [
       "<IPython.core.display.Image object>"
      ]
     },
     "metadata": {},
     "output_type": "display_data"
    },
    {
     "name": "stdout",
     "output_type": "stream",
     "text": [
      "Images from sample with lowest stdev\n"
     ]
    },
    {
     "data": {
      "image/png": "[encoded data removed]",
      "text/plain": [
       "<IPython.core.display.Image object>"
      ]
     },
     "metadata": {},
     "output_type": "display_data"
    },
    {
     "name": "stdout",
     "output_type": "stream",
     "text": [
      "In plot_probability_timelines for ../plots/batch_stats/181208_net/181115_seedednew_aug\n",
      "deterministic\n"
     ]
    },
    {
     "data": {
      "image/png": "[encoded data removed]",
      "text/plain": [
       "<Figure size 432x288 with 1 Axes>"
      ]
     },
     "metadata": {},
     "output_type": "display_data"
    },
    {
     "name": "stdout",
     "output_type": "stream",
     "text": [
      "deterministic\n"
     ]
    },
    {
     "data": {
      "image/png": "[encoded data removed]",
      "text/plain": [
       "<Figure size 432x288 with 1 Axes>"
      ]
     },
     "metadata": {},
     "output_type": "display_data"
    }
   ],
   "source": [
    "plot_home_dir = \"../plots/batch_stats\"\n",
    "\n",
    "experiment_batch_name = \"181208_net\"\n",
    "plot_home_dir += \"/{}\".format(experiment_batch_name)\n",
    "\n",
    "experiment_names = [\"181208_net\", \"181115_seedednew_aug\"]\n",
    "for experiment_name in experiment_names:\n",
    "    experiment_dir = \"../data/output/cifar10/{}\".format(experiment_name)\n",
    "    plot_dir = \"{}/{}\".format(plot_home_dir, experiment_name)\n",
    "    if not os.path.exists(plot_dir):\n",
    "        os.makedirs(plot_dir)\n",
    "    plot_experiment(experiment_dir,\n",
    "                    plot_dir,\n",
    "                    max_ids=None,\n",
    "                    trials=[1],\n",
    "                    run_probability_timelines=True,\n",
    "                    run_probability_dist=True)"
   ]
  },
  {
   "cell_type": "code",
   "execution_count": 33,
   "metadata": {},
   "outputs": [
    {
     "name": "stdout",
     "output_type": "stream",
     "text": [
      "In plot_images_percentile for ../plots/batch_stats/181213_params_nomin/181213_params_nomin\n",
      "In plot_image_distributions for ../plots/batch_stats/181213_params_nomin/181213_params_nomin\n"
     ]
    },
    {
     "data": {
      "text/plain": [
       "<Figure size 432x288 with 0 Axes>"
      ]
     },
     "metadata": {},
     "output_type": "display_data"
    }
   ],
   "source": [
    "plot_home_dir = \"../plots/batch_stats\"\n",
    "\n",
    "experiment_batch_name = \"181213_params_nomin\"\n",
    "plot_home_dir += \"/{}\".format(experiment_batch_name)\n",
    "\n",
    "experiment_names = [\"181213_params_nomin\"]\n",
    "for experiment_name in experiment_names:\n",
    "    experiment_dir = \"../data/output/cifar10/{}\".format(experiment_name)\n",
    "    plot_dir = \"{}/{}\".format(plot_home_dir, experiment_name)\n",
    "    if not os.path.exists(plot_dir):\n",
    "        os.makedirs(plot_dir)\n",
    "    plot_experiment(experiment_dir, plot_dir, max_ids=100,\n",
    "                    trials=[1])"
   ]
  },
  {
   "cell_type": "code",
   "execution_count": null,
   "metadata": {},
   "outputs": [],
   "source": [
    "plot_home_dir = \"../plots/batch_stats\"\n",
    "\n",
    "experiment_batch_name = \"181219_baselr\"\n",
    "plot_home_dir += \"/{}\".format(experiment_batch_name)\n",
    "if not os.path.exists(plot_home_dir):\n",
    "    os.makedirs(plot_home_dir)\n",
    "\n",
    "experiment_names = [\"181219_baselr_kath\"]\n",
    "for experiment_name in experiment_names:\n",
    "    experiment_dir = \"../data/output/cifar10/importance_sampling/{}/idxs\".format(experiment_name)\n",
    "    plot_dir = \"{}/{}\".format(plot_home_dir, experiment_name)\n",
    "    if not os.path.exists(plot_dir):\n",
    "        os.makedirs(plot_dir)\n",
    "    plot_confidence_distributions(experiment_dir, plot_dir, max_epoch=None, trials=None)\n"
   ]
  },
  {
   "cell_type": "code",
   "execution_count": 14,
   "metadata": {},
   "outputs": [
    {
     "name": "stdout",
     "output_type": "stream",
     "text": [
      "In plot_image_distributions for ../plots/batch_stats/181212_topk/181212_topk\n"
     ]
    },
    {
     "data": {
      "text/plain": [
       "<Figure size 432x288 with 0 Axes>"
      ]
     },
     "metadata": {},
     "output_type": "display_data"
    }
   ],
   "source": [
    "plot_home_dir = \"../plots/batch_stats\"\n",
    "\n",
    "experiment_batch_name = \"181212_topk\"\n",
    "plot_home_dir += \"/{}\".format(experiment_batch_name)\n",
    "\n",
    "experiment_names = [\"181212_topk\"]\n",
    "for experiment_name in experiment_names:\n",
    "    experiment_dir = \"../data/output/cifar10/{}\".format(experiment_name)\n",
    "    plot_dir = \"{}/{}\".format(plot_home_dir, experiment_name)\n",
    "    if not os.path.exists(plot_dir):\n",
    "        os.makedirs(plot_dir)\n",
    "    plot_experiment(experiment_dir, plot_dir, max_ids=100,\n",
    "                    trials=[1])"
   ]
  },
  {
   "cell_type": "code",
   "execution_count": 69,
   "metadata": {},
   "outputs": [
    {
     "name": "stdout",
     "output_type": "stream",
     "text": [
      "In plot_probability_timelines for ../plots/batch_stats/181208_net/181208_net\n",
      "deterministic\n",
      "deterministic\n",
      "Analyzing stdevs for deterministic, densenet, Min: 0.1, trial-1\n",
      "deterministic\n",
      "Images from sample with highest stdev\n"
     ]
    },
    {
     "data": {
      "image/png": "[encoded data removed]",
      "text/plain": [
       "<IPython.core.display.Image object>"
      ]
     },
     "metadata": {},
     "output_type": "display_data"
    },
    {
     "name": "stdout",
     "output_type": "stream",
     "text": [
      "Images from sample with lowest stdev\n"
     ]
    },
    {
     "data": {
      "image/png": "[encoded data removed]",
      "text/plain": [
       "<IPython.core.display.Image object>"
      ]
     },
     "metadata": {},
     "output_type": "display_data"
    },
    {
     "name": "stdout",
     "output_type": "stream",
     "text": [
      "deterministic\n",
      "deterministic\n",
      "Analyzing stdevs for deterministic, densenet, Min: 1.0, trial-1\n",
      "deterministic\n",
      "Images from sample with highest stdev\n"
     ]
    },
    {
     "data": {
      "image/png": "[encoded data removed]",
      "text/plain": [
       "<IPython.core.display.Image object>"
      ]
     },
     "metadata": {},
     "output_type": "display_data"
    },
    {
     "name": "stdout",
     "output_type": "stream",
     "text": [
      "Images from sample with lowest stdev\n"
     ]
    },
    {
     "data": {
      "image/png": "[encoded data removed]",
      "text/plain": [
       "<IPython.core.display.Image object>"
      ]
     },
     "metadata": {},
     "output_type": "display_data"
    },
    {
     "name": "stdout",
     "output_type": "stream",
     "text": [
      "deterministic_cifar10\n",
      "deterministic_cifar10\n",
      "Analyzing stdevs for , trial-1\n",
      "deterministic_cifar10\n",
      "Images from sample with highest stdev\n"
     ]
    },
    {
     "data": {
      "image/png": "[encoded data removed]",
      "text/plain": [
       "<IPython.core.display.Image object>"
      ]
     },
     "metadata": {},
     "output_type": "display_data"
    },
    {
     "name": "stdout",
     "output_type": "stream",
     "text": [
      "Images from sample with lowest stdev\n"
     ]
    },
    {
     "data": {
      "image/png": "[encoded data removed]",
      "text/plain": [
       "<IPython.core.display.Image object>"
      ]
     },
     "metadata": {},
     "output_type": "display_data"
    },
    {
     "name": "stdout",
     "output_type": "stream",
     "text": [
      "deterministic_cifar10\n",
      "deterministic_cifar10\n",
      "Analyzing stdevs for , trial-1\n",
      "deterministic_cifar10\n",
      "Images from sample with highest stdev\n"
     ]
    },
    {
     "data": {
      "image/png": "[encoded data removed]",
      "text/plain": [
       "<IPython.core.display.Image object>"
      ]
     },
     "metadata": {},
     "output_type": "display_data"
    },
    {
     "name": "stdout",
     "output_type": "stream",
     "text": [
      "Images from sample with lowest stdev\n"
     ]
    },
    {
     "data": {
      "image/png": "[encoded data removed]",
      "text/plain": [
       "<IPython.core.display.Image object>"
      ]
     },
     "metadata": {},
     "output_type": "display_data"
    },
    {
     "ename": "NameError",
     "evalue": "global name 'plot_probability_distribution' is not defined",
     "output_type": "error",
     "traceback": [
      "\u001b[0;31m---------------------------------------------------------------------------\u001b[0m",
      "\u001b[0;31mNameError\u001b[0m                                 Traceback (most recent call last)",
      "\u001b[0;32m<ipython-input-69-13fd3bac4013>\u001b[0m in \u001b[0;36m<module>\u001b[0;34m()\u001b[0m\n\u001b[1;32m     11\u001b[0m         \u001b[0mos\u001b[0m\u001b[0;34m.\u001b[0m\u001b[0mmakedirs\u001b[0m\u001b[0;34m(\u001b[0m\u001b[0mplot_dir\u001b[0m\u001b[0;34m)\u001b[0m\u001b[0;34m\u001b[0m\u001b[0m\n\u001b[1;32m     12\u001b[0m     plot_experiment(experiment_dir, plot_dir, run_probability_timelines=True,\n\u001b[0;32m---> 13\u001b[0;31m                     run_probability_dist=True)\n\u001b[0m",
      "\u001b[0;32m<ipython-input-65-a5acfc76035b>\u001b[0m in \u001b[0;36mplot_experiment\u001b[0;34m(experiment_dir, plot_dir, max_ids, run_image_id_hist, run_target_confidences, run_probability_timelines, run_probability_dist, trials)\u001b[0m\n\u001b[1;32m     27\u001b[0m             \u001b[0mprobability_dist_dir\u001b[0m \u001b[0;34m=\u001b[0m \u001b[0mos\u001b[0m\u001b[0;34m.\u001b[0m\u001b[0mpath\u001b[0m\u001b[0;34m.\u001b[0m\u001b[0mjoin\u001b[0m\u001b[0;34m(\u001b[0m\u001b[0mpickles_dir\u001b[0m\u001b[0;34m,\u001b[0m \u001b[0;34m\"probabilities_by_image\"\u001b[0m\u001b[0;34m)\u001b[0m\u001b[0;34m\u001b[0m\u001b[0m\n\u001b[1;32m     28\u001b[0m             \u001b[0;32mif\u001b[0m \u001b[0mos\u001b[0m\u001b[0;34m.\u001b[0m\u001b[0mpath\u001b[0m\u001b[0;34m.\u001b[0m\u001b[0misdir\u001b[0m\u001b[0;34m(\u001b[0m\u001b[0mprobability_dist_dir\u001b[0m\u001b[0;34m)\u001b[0m\u001b[0;34m:\u001b[0m\u001b[0;34m\u001b[0m\u001b[0m\n\u001b[0;32m---> 29\u001b[0;31m                 \u001b[0mplot_probability_distribution\u001b[0m\u001b[0;34m(\u001b[0m\u001b[0mprobability_dist_dir\u001b[0m\u001b[0;34m,\u001b[0m \u001b[0mplot_dir\u001b[0m\u001b[0;34m,\u001b[0m \u001b[0mtrials\u001b[0m\u001b[0;34m=\u001b[0m\u001b[0mtrials\u001b[0m\u001b[0;34m)\u001b[0m\u001b[0;34m\u001b[0m\u001b[0m\n\u001b[0m\u001b[1;32m     30\u001b[0m \u001b[0;34m\u001b[0m\u001b[0m\n\u001b[1;32m     31\u001b[0m \u001b[0;34m\u001b[0m\u001b[0m\n",
      "\u001b[0;31mNameError\u001b[0m: global name 'plot_probability_distribution' is not defined"
     ]
    },
    {
     "data": {
      "text/plain": [
       "<Figure size 432x288 with 0 Axes>"
      ]
     },
     "metadata": {},
     "output_type": "display_data"
    }
   ],
   "source": [
    "plot_home_dir = \"../plots/batch_stats\"\n",
    "\n",
    "experiment_batch_name = \"181208_net\"\n",
    "plot_home_dir += \"/{}\".format(experiment_batch_name)\n",
    "\n",
    "experiment_names = [\"181208_net\"]\n",
    "for experiment_name in experiment_names:\n",
    "    experiment_dir = \"../data/output/cifar10/{}\".format(experiment_name)\n",
    "    plot_dir = \"{}/{}\".format(plot_home_dir, experiment_name)\n",
    "    if not os.path.exists(plot_dir):\n",
    "        os.makedirs(plot_dir)\n",
    "    plot_experiment(experiment_dir, plot_dir, run_probability_timelines=True,\n",
    "                    run_probability_dist=True)\n"
   ]
  },
  {
   "cell_type": "code",
   "execution_count": null,
   "metadata": {},
   "outputs": [],
   "source": []
  }
 ],
 "metadata": {
  "kernelspec": {
   "display_name": "Python 2",
   "language": "python",
   "name": "python2"
  },
  "language_info": {
   "codemirror_mode": {
    "name": "ipython",
    "version": 2
   },
   "file_extension": ".py",
   "mimetype": "text/x-python",
   "name": "python",
   "nbconvert_exporter": "python",
   "pygments_lexer": "ipython2",
   "version": "2.7.14"
  }
 },
 "nbformat": 4,
 "nbformat_minor": 2
}
