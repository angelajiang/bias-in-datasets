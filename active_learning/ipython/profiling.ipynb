{
 "cells": [
  {
   "cell_type": "code",
   "execution_count": 133,
   "metadata": {
    "colab": {},
    "colab_type": "code",
    "id": "Um1iCRz5JGn2"
   },
   "outputs": [],
   "source": [
    "import pandas as pd\n",
    "import seaborn as sns"
   ]
  },
  {
   "cell_type": "code",
   "execution_count": 143,
   "metadata": {
    "colab": {
     "base_uri": "https://localhost:8080/",
     "height": 1000
    },
    "colab_type": "code",
    "id": "WJNu9OkAcOV8",
    "outputId": "19ca900d-6d13-4885-ae32-9d1ae420c353"
   },
   "outputs": [],
   "source": [
    "from collections import Counter\n",
    "\n",
    "def proc_file(filer, printer=False):\n",
    "    times = Counter()\n",
    "    open_times = {}\n",
    "\n",
    "    stk = []\n",
    "    stk_times = [[0,0]]\n",
    "\n",
    "    dff = []\n",
    "\n",
    "    with open(\"/users/danielwong/Downloads/\"+filer) as f:\n",
    "        for line in f:\n",
    "            if \"[python]\" in line:\n",
    "                line = line.split()\n",
    "                if line[1].startswith('==='):\n",
    "                    idx = line[1][3:][:-1]\n",
    "                    stk.append(idx)\n",
    "                    open_times[idx] = int(line[2]) / 1000.\n",
    "                    bt_times = Counter()\n",
    "                    stk_times.append([0,0])\n",
    "    #         print(idx)\n",
    "                else:\n",
    "                    idx = line[1][:-4]\n",
    "                    tx = int(line[2]) / 1000.\n",
    "                    assert idx == stk.pop(), (idx, stk.pop(), line)\n",
    "                    elapsed_inner, kernel = stk_times.pop()\n",
    "    #         del open_times[idx]\n",
    "    #         print(tx)\n",
    "                    elapsed = tx - open_times[idx]\n",
    "                    times[idx] += elapsed\n",
    "    #         print(bt_times)\n",
    "                    kernel = sum(bt_times.values()) or kernel\n",
    "                    stk_times[-1][0] += elapsed\n",
    "                    stk_times[-1][1] += kernel\n",
    "                    if printer:\n",
    "                            print(\"{}{} kernel={:g} ({:.1f}) inner={:g} ({:.1f}) elapsed={:g}\".format(\" \"*len(stk),idx, kernel, kernel/elapsed*100, elapsed_inner, elapsed_inner/elapsed*100, elapsed))\n",
    "                    dff.append({'idx': idx, 'kernel': kernel, 'elapsed': elapsed, 'inner': elapsed_inner})\n",
    "                    bt_times = Counter()\n",
    "\n",
    "    #         print(idx, tx)\n",
    "            elif \", start\" in line:\n",
    "                line = line.split()\n",
    "                idx = line[0]\n",
    "                tx = float(line[4].replace(\":\", \".\"))\n",
    "                open_times[idx] = tx\n",
    "            elif \", end\" in line:\n",
    "                line = line.split()\n",
    "                idx = line[0]\n",
    "                tx = float(line[4].replace(\":\", \".\").replace(\",\",\"\"))\n",
    "                try:\n",
    "                    bt_times[idx] += (tx - open_times[idx] + 100) % 100\n",
    "                    xx = tx - open_times[idx]\n",
    "                    del open_times[idx]\n",
    "                except KeyError:\n",
    "                    print \"Bad line\", line\n",
    "    #       if xx < 0:\n",
    "    #         print xx, tx, open_times[idx]\n",
    "    times\n",
    "    #open_times\n",
    "    return dff\n",
    "\n",
    "# proc_file(\"output/cifar10/190907_profile/nofilter_cifar10_wideresnet_0_128_1024_3_trial1_seed1337_v5\")"
   ]
  },
  {
   "cell_type": "code",
   "execution_count": 147,
   "metadata": {},
   "outputs": [
    {
     "name": "stdout",
     "output_type": "stream",
     "text": [
      "./output/cifar10/190907_profile/sb-relative-alwayson_cifar10_wideresnet_0_128_1024_3_trial1_seed1337_v5\n",
      "3520\n",
      "Outliers: 9\n",
      "idx\n",
      "backward      0.334084\n",
      "epoch         0.424323\n",
      "forward       0.161813\n",
      "forward-sb    0.150395\n",
      "Name: elapsed, dtype: float64\n",
      "idx\n",
      "backward       584\n",
      "epoch         1169\n",
      "forward        587\n",
      "forward-sb    1171\n",
      "Name: elapsed, dtype: int64\n",
      "./output/cifar100/190907_profile/nofilter_cifar100_wideresnet_0_128_1024_3_trial1_seed1337_v5\n",
      "3519\n",
      "Outliers: 5\n",
      "idx\n",
      "backward    0.335700\n",
      "epoch       0.515753\n",
      "forward     0.162749\n",
      "Name: elapsed, dtype: float64\n",
      "idx\n",
      "backward    1171\n",
      "epoch       1171\n",
      "forward     1172\n",
      "Name: elapsed, dtype: int64\n",
      "./output/cifar100/190907_profile/sb-relative-alwayson_cifar100_wideresnet_0_128_1024_3_trial1_seed1337_v5\n",
      "3518\n",
      "Outliers: 6\n",
      "idx\n",
      "backward      0.334021\n",
      "epoch         0.423178\n",
      "forward       0.160724\n",
      "forward-sb    0.150113\n",
      "Name: elapsed, dtype: float64\n",
      "idx\n",
      "backward       584\n",
      "epoch         1170\n",
      "forward        586\n",
      "forward-sb    1172\n",
      "Name: elapsed, dtype: int64\n"
     ]
    }
   ],
   "source": [
    "files = \"\"\"./output/cifar10/190907_profile/sb-relative-alwayson_cifar10_wideresnet_0_128_1024_3_trial1_seed1337_v5\n",
    "./output/cifar100/190907_profile/nofilter_cifar100_wideresnet_0_128_1024_3_trial1_seed1337_v5\n",
    "./output/cifar100/190907_profile/sb-relative-alwayson_cifar100_wideresnet_0_128_1024_3_trial1_seed1337_v5\"\"\".split(\"\\n\")\n",
    "\n",
    "for fn in files:\n",
    "    dff = proc_file(fn)\n",
    "    df = pd.DataFrame(dff)\n",
    "    print(fn)\n",
    "    print(len(dff))\n",
    "    df_ = df[ df['elapsed'] < 1.2]\n",
    "    print \"Outliers:\", len(df[ df['elapsed'] > 1.2])\n",
    "    print(df_.groupby('idx')['elapsed'].mean())\n",
    "    print(df_.groupby('idx')['elapsed'].count())\n",
    "#     print(df_.groupby('idx')['elapsed'].describe())"
   ]
  },
  {
   "cell_type": "code",
   "execution_count": null,
   "metadata": {},
   "outputs": [],
   "source": [
    "# xx = df.groupby('idx')['elapsed'].sum()\n",
    "# xx, (xx['forward']+xx['backward']+xx['forward-sb'])/xx['epoch']"
   ]
  }
 ],
 "metadata": {
  "colab": {
   "name": "profiling.ipynb",
   "provenance": [],
   "version": "0.3.2"
  },
  "kernelspec": {
   "display_name": "Python 2",
   "language": "python",
   "name": "python2"
  },
  "language_info": {
   "codemirror_mode": {
    "name": "ipython",
    "version": 2
   },
   "file_extension": ".py",
   "mimetype": "text/x-python",
   "name": "python",
   "nbconvert_exporter": "python",
   "pygments_lexer": "ipython2",
   "version": "2.7.10"
  }
 },
 "nbformat": 4,
 "nbformat_minor": 1
}
