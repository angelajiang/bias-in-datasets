{
 "cells": [
  {
   "cell_type": "code",
   "execution_count": 2,
   "metadata": {},
   "outputs": [],
   "source": [
    "import os\n",
    "import sys\n",
    "import matplotlib\n",
    "import matplotlib.pyplot as plt\n",
    "\n",
    "sys.path.insert(0, '/Users/angela/src/private/bias-in-datasets/active_learning/src')\n",
    "from Plotter import format_plot, write_file\n"
   ]
  },
  {
   "cell_type": "code",
   "execution_count": 3,
   "metadata": {},
   "outputs": [],
   "source": [
    "def plot_eval(experiment_dir, experiment_file, plot_dir, batch_size=128, log_every=100):\n",
    "    val_file = os.path.join(experiment_dir, experiment_file)\n",
    "    xs = []\n",
    "    losses = []\n",
    "    accs = []\n",
    "    print(\"parsing...\")\n",
    "    with open(val_file) as f:\n",
    "        for i, line in enumerate(f):\n",
    "            if \"Finished\" not in line:\n",
    "                continue\n",
    "            vals = line.rstrip().split(\" \")\n",
    "            vals = [v for v in vals if v is not \"\"]\n",
    "            epoch = int(vals[4])\n",
    "            error = float(vals[6])\n",
    "            acc = 100 - error\n",
    "            accs.append(acc)\n",
    "            xs.append(epoch)\n",
    "        print(\"plotting...\")\n",
    "        plt.plot(xs, accs, label=experiment_file)\n",
    "\n",
    "    plot_prefix = \"{}/{}_val_accs\".format(plot_dir, experiment_file)\n",
    "    format_plot(\"Epochs\", \"Accuracy\")\n",
    "    write_file(plot_prefix)\n"
   ]
  },
  {
   "cell_type": "code",
   "execution_count": 5,
   "metadata": {},
   "outputs": [
    {
     "name": "stdout",
     "output_type": "stream",
     "text": [
      "parsing...\n",
      "plotting...\n",
      "../plots/181206_soa/shake-shake-26-2-112.out_val_accs.pdf\n"
     ]
    },
    {
     "data": {
      "text/plain": [
       "<Figure size 432x288 with 0 Axes>"
      ]
     },
     "metadata": {},
     "output_type": "display_data"
    }
   ],
   "source": [
    "plot_home_dir = \"../plots\"\n",
    "experiment_dir = \"../data/output/cifar10/shake-shake\"\n",
    "experiment_file = \"shake-shake-26-2-112.out\"\n",
    "plot_dir = os.path.join(plot_home_dir, \"181206_soa\")\n",
    "if not os.path.exists(plot_dir):\n",
    "    os.makedirs(plot_dir)\n",
    "    \n",
    "plot_eval(experiment_dir, experiment_file, plot_dir)"
   ]
  },
  {
   "cell_type": "code",
   "execution_count": null,
   "metadata": {},
   "outputs": [],
   "source": []
  }
 ],
 "metadata": {
  "celltoolbar": "Edit Metadata",
  "kernelspec": {
   "display_name": "Python 2",
   "language": "python",
   "name": "python2"
  }
 },
 "nbformat": 4,
 "nbformat_minor": 2
}
