{
 "cells": [
  {
   "cell_type": "code",
   "execution_count": 177,
   "metadata": {},
   "outputs": [],
   "source": [
    "import seaborn as sns\n",
    "from shutil import copyfile\n",
    "import itertools\n",
    "import tensorflow as tf\n",
    "import numpy as np\n",
    "import matplotlib.mlab as mlab\n",
    "import matplotlib.pyplot as plt\n",
    "import cPickle as pickle\n",
    "import os\n",
    "\n",
    "sns.set_style(\"white\")\n",
    "sns.set_palette(\"husl\")\n",
    "\n",
    "class Config:\n",
    "    MATCHER = (\"^(.*)_(.*)_(.*)_(.*)_(\\d+)_(\\d*\\.?\\d*)_(\\d*\\.?\\d*)(_trial\\d+)?(_epoch\\d+)?\")\n",
    "\n",
    "    def __init__(self, filename):\n",
    "        groups = self.matches(filename)\n",
    "        self.strategy = groups[0]\n",
    "        self.dataset = groups[1]\n",
    "        self.network = groups[2]\n",
    "        self.top_k = float(groups[3])\n",
    "        self.pool_size = int(groups[4])\n",
    "        self.lr = float(groups[5])\n",
    "        self.decay = float(groups[6])\n",
    "        self.trial = None\n",
    "        self.epoch = None\n",
    "        if groups[7]:\n",
    "            unparsed_trial = groups[7]\n",
    "            self.trial = int(unparsed_trial.strip(\"_trial\"))\n",
    "        if groups[8]:\n",
    "            unparsed_epoch = groups[8]\n",
    "            self.epoch = int(unparsed_epoch.strip(\"_epoch\"))\n",
    "\n",
    "\n",
    "    def matches(self, filename):\n",
    "        import re\n",
    "        return (re.match(Config.MATCHER, filename)).groups()\n",
    "\n",
    "    @property\n",
    "    def label(self):\n",
    "        if self.strategy == \"topk\":\n",
    "            label = \"{}, {}, top_{}/{}, lr={}\".format(self.strategy,\n",
    "                                                      self.network,\n",
    "                                                      self.top_k,\n",
    "                                                      self.pool_size,\n",
    "                                                      self.lr)\n",
    "        elif self.strategy == \"sampling\" or self.strategy == \"deterministic\":\n",
    "            label = \"{}, {}, {}, {}, lr={}\".format(self.strategy,\n",
    "                                                   self.network,\n",
    "                                                   self.top_k,\n",
    "                                                   self.pool_size,\n",
    "                                                   self.lr)                                               \n",
    "        if self.trial:\n",
    "            label += \", trial-{}\".format(self.trial)\n",
    "        if self.epoch:\n",
    "            label += \", epoch-{}\".format(self.epoch)\n",
    "        return label\n",
    "    "
   ]
  },
  {
   "cell_type": "code",
   "execution_count": 189,
   "metadata": {},
   "outputs": [],
   "source": [
    "def print_twitter_examples(sorted_ids):\n",
    "    print(\"---------------------------------\")\n",
    "    print(\"(Rank of 0 is the least backpropped image)\")\n",
    "    twitter_car_front = [1901, 7774, 1196, 2071, 4524, 5558, 1437,\n",
    "                            5652, 9791, 2652, 3063, 3317]\n",
    "    twitter_car_back = [1681,2362,8559,8825,3239,9450,1137,6315,9429,7995,\n",
    "                        8571,1091,4273,7588,9096,9875]\n",
    "    rankings = [i for i, x in enumerate(sorted_ids) if x in twitter_car_front]\n",
    "    print(\"[Twitter Car Front] rankings: {}\".format(rankings))\n",
    "            \n",
    "    rankings = [i for i, x in enumerate(sorted_ids) if x in twitter_car_back]\n",
    "    print(\"[Twitter Car Back] rankings: {}\".format(rankings))"
   ]
  },
  {
   "cell_type": "code",
   "execution_count": 197,
   "metadata": {},
   "outputs": [],
   "source": [
    "def write_images(pickles_dir, plot_dir, src_dir, top_k=50, bottom_k=50, trials=None):\n",
    "    data_dir = os.path.join(pickles_dir, \"pickles/image_id_hist\")\n",
    "    if not os.path.isdir(data_dir): return\n",
    "    \n",
    "    for filename in os.listdir(data_dir):\n",
    "        if \"epoch\" in filename:\n",
    "            continue\n",
    "        config = Config(filename)\n",
    "        if trials:\n",
    "            if config.trial not in trials:\n",
    "                continue\n",
    "\n",
    "        print(\"Writing images for {}\".format(filename))\n",
    "        pickles_file = os.path.join(data_dir, filename)\n",
    "        with open(pickles_file, 'rb') as handle:\n",
    "            d = pickle.load(handle)\n",
    "            \n",
    "            sorted_ids = sorted(d, key=lambda k: d[k])\n",
    "            \n",
    "            print_twitter_examples(sorted_ids)\n",
    "\n",
    "            subplot_dir = os.path.join(plot_dir, \"images_by_frequency\")\n",
    "            top_k_dir = os.path.join(subplot_dir, \"least_backpropped\")\n",
    "            bottom_k_dir = os.path.join(subplot_dir, \"most_backpropped\")\n",
    "            for directory in [subplot_dir, top_k_dir, bottom_k_dir]:\n",
    "                if not os.path.isdir(directory):\n",
    "                    os.mkdir(directory)\n",
    "                    \n",
    "            n, bins, patches = plt.hist(d.values(),\n",
    "                                        50,\n",
    "                                        normed=0,\n",
    "                                        facecolor='green',\n",
    "                                        alpha=0.75)\n",
    "            print n\n",
    "                    \n",
    "            # Write top-k\n",
    "            for image_id in sorted_ids[:top_k]:\n",
    "                num_backprops = d[image_id]\n",
    "                src_file = os.path.join(src_dir, \"image-{}.png\".format(image_id))\n",
    "                dst_file = os.path.join(top_k_dir, \"{}_image-{}.png\".format(num_backprops,\n",
    "                                                                            image_id))\n",
    "                copyfile(src_file, dst_file)\n",
    "            \n",
    "            # Write bottom-k\n",
    "            for image_id in sorted_ids[-bottom_k:]:\n",
    "                num_backprops = d[image_id]\n",
    "                src_file = os.path.join(src_dir, \"image-{}.png\".format(image_id))\n",
    "                dst_file = os.path.join(bottom_k_dir, \"{}_image-{}.png\".format(num_backprops,\n",
    "                                                                               image_id))\n",
    "                copyfile(src_file, dst_file)\n",
    "            \n",
    "\n",
    "\n"
   ]
  },
  {
   "cell_type": "code",
   "execution_count": 198,
   "metadata": {},
   "outputs": [
    {
     "name": "stdout",
     "output_type": "stream",
     "text": [
      "Writing images for deterministic_cifar10_resnet_.1_32_0.001_0.0005_trial1_images_hist.pickle\n",
      "---------------------------------\n",
      "(Rank of 0 is the least backpropped image)\n",
      "[Twitter Car Front] rankings: [58, 119, 146, 167, 392, 695, 18190, 18227, 18300, 27136, 32459, 43578]\n",
      "[Twitter Car Back] rankings: [90, 807, 10009, 10160, 10556, 11676, 11724, 22991, 29982, 30042, 30054, 36699, 38490, 41365, 42645, 42658]\n",
      "[1.8014e+04 4.8870e+03 3.6570e+03 2.9970e+03 2.6190e+03 2.3790e+03\n",
      " 1.9890e+03 3.3100e+03 1.3550e+03 1.2050e+03 1.0660e+03 9.7100e+02\n",
      " 8.1000e+02 7.0600e+02 1.1580e+03 4.4400e+02 4.1200e+02 3.4700e+02\n",
      " 3.0700e+02 2.4700e+02 1.9800e+02 3.1100e+02 1.2600e+02 8.8000e+01\n",
      " 7.3000e+01 7.2000e+01 5.0000e+01 3.5000e+01 6.2000e+01 2.2000e+01\n",
      " 1.8000e+01 1.5000e+01 1.2000e+01 9.0000e+00 6.0000e+00 5.0000e+00\n",
      " 4.0000e+00 0.0000e+00 3.0000e+00 1.0000e+00 3.0000e+00 2.0000e+00\n",
      " 2.0000e+00 2.0000e+00 0.0000e+00 0.0000e+00 0.0000e+00 0.0000e+00\n",
      " 0.0000e+00 1.0000e+00]\n"
     ]
    },
    {
     "data": {
      "image/png": "[encoded data removed]",
      "text/plain": [
       "<Figure size 432x288 with 1 Axes>"
      ]
     },
     "metadata": {},
     "output_type": "display_data"
    }
   ],
   "source": [
    "plot_home_dir = \"../plots/batch_stats\"\n",
    "src_dir = \"../data/images/cifar10_by_id\"\n",
    "\n",
    "experiment_batch_name = \"181016_notransform\"\n",
    "plot_home_dir += \"/{}\".format(experiment_batch_name)\n",
    "\n",
    "experiment_names = [\"181016_notransform_square\"]\n",
    "for experiment_name in experiment_names:\n",
    "    experiment_dir = \"../data/output/cifar10/{}\".format(experiment_name)\n",
    "    plot_dir = \"{}/{}\".format(plot_home_dir, experiment_name)\n",
    "    if not os.path.exists(plot_dir):\n",
    "        os.makedirs(plot_dir)\n",
    "    write_images(experiment_dir, plot_dir, src_dir)"
   ]
  },
  {
   "cell_type": "code",
   "execution_count": 192,
   "metadata": {},
   "outputs": [
    {
     "name": "stdout",
     "output_type": "stream",
     "text": [
      "Writing images for deterministic_cifar10_resnet_.1_32_0.001_0.0005_trial1_images_hist.pickle\n",
      "---------------------------------\n",
      "(Rank of 0 is the least backpropped image)\n",
      "[Twitter Car Front] rankings: [345, 6638, 6669, 6895, 6947, 7372, 22988, 26521, 28702, 31212, 37120, 40051]\n",
      "[Twitter Car Back] rankings: [6487, 6596, 6742, 6930, 7968, 14309, 15139, 15142, 28961, 31506, 31587, 33584, 40184, 41354, 46530, 48841]\n",
      "Writing images for deterministic_cifar10_resnet_.4_32_0.001_0.0005_trial1_images_hist.pickle\n",
      "---------------------------------\n",
      "(Rank of 0 is the least backpropped image)\n",
      "[Twitter Car Front] rankings: [324, 12595, 12671, 12946, 13128, 13243, 15067, 28668, 29305, 29529, 37287, 38232]\n",
      "[Twitter Car Back] rankings: [654, 747, 12249, 12495, 12806, 13210, 15367, 28595, 29259, 29670, 30137, 30187, 30251, 38204, 42826, 45921]\n",
      "Writing images for sampling_cifar10_resnet_.1_32_0.001_0.0005_trial1_images_hist.pickle\n",
      "---------------------------------\n",
      "(Rank of 0 is the least backpropped image)\n",
      "[Twitter Car Front] rankings: [175, 2366, 3163, 6516, 6529, 15860, 22549, 28837, 32942, 36451, 37886, 46730]\n",
      "[Twitter Car Back] rankings: [1756, 3248, 6720, 13656, 13695, 14003, 15748, 18162, 20451, 26763, 26802, 26986, 33056, 40840, 43958, 44755]\n"
     ]
    }
   ],
   "source": [
    "plot_home_dir = \"../plots/batch_stats\"\n",
    "src_dir = \"../data/images/cifar10_by_id\"\n",
    "\n",
    "experiment_batch_name = \"181014_refactor\"\n",
    "plot_home_dir += \"/{}\".format(experiment_batch_name)\n",
    "\n",
    "experiment_names = [\"181014_square\"]\n",
    "for experiment_name in experiment_names:\n",
    "    experiment_dir = \"../data/output/cifar10/{}\".format(experiment_name)\n",
    "    plot_dir = \"{}/{}\".format(plot_home_dir, experiment_name)\n",
    "    if not os.path.exists(plot_dir):\n",
    "        os.makedirs(plot_dir)\n",
    "    write_images(experiment_dir, plot_dir, src_dir, trials=[1])"
   ]
  },
  {
   "cell_type": "code",
   "execution_count": 199,
   "metadata": {},
   "outputs": [
    {
     "name": "stdout",
     "output_type": "stream",
     "text": [
      "Writing images for deterministic_cifar10_resnet_.1_32_0.001_0.0005_trial1_images_hist.pickle\n",
      "---------------------------------\n",
      "(Rank of 0 is the least backpropped image)\n",
      "[Twitter Car Front] rankings: [58, 119, 146, 167, 392, 695, 18190, 18227, 18300, 27136, 32459, 43578]\n",
      "[Twitter Car Back] rankings: [90, 807, 10009, 10160, 10556, 11676, 11724, 22991, 29982, 30042, 30054, 36699, 38490, 41365, 42645, 42658]\n",
      "[1.8014e+04 4.8870e+03 3.6570e+03 2.9970e+03 2.6190e+03 2.3790e+03\n",
      " 1.9890e+03 3.3100e+03 1.3550e+03 1.2050e+03 1.0660e+03 9.7100e+02\n",
      " 8.1000e+02 7.0600e+02 1.1580e+03 4.4400e+02 4.1200e+02 3.4700e+02\n",
      " 3.0700e+02 2.4700e+02 1.9800e+02 3.1100e+02 1.2600e+02 8.8000e+01\n",
      " 7.3000e+01 7.2000e+01 5.0000e+01 3.5000e+01 6.2000e+01 2.2000e+01\n",
      " 1.8000e+01 1.5000e+01 1.2000e+01 9.0000e+00 6.0000e+00 5.0000e+00\n",
      " 4.0000e+00 0.0000e+00 3.0000e+00 1.0000e+00 3.0000e+00 2.0000e+00\n",
      " 2.0000e+00 2.0000e+00 0.0000e+00 0.0000e+00 0.0000e+00 0.0000e+00\n",
      " 0.0000e+00 1.0000e+00]\n"
     ]
    },
    {
     "data": {
      "image/png": "[encoded data removed]",
      "text/plain": [
       "<Figure size 432x288 with 1 Axes>"
      ]
     },
     "metadata": {},
     "output_type": "display_data"
    }
   ],
   "source": [
    "plot_home_dir = \"../plots/batch_stats\"\n",
    "src_dir = \"../data/images/cifar10_by_id\"\n",
    "\n",
    "experiment_batch_name = \"181016_notransform\"\n",
    "plot_home_dir += \"/{}\".format(experiment_batch_name)\n",
    "\n",
    "experiment_names = [\"181016_notransform_square\"]\n",
    "for experiment_name in experiment_names:\n",
    "    experiment_dir = \"../data/output/cifar10/{}\".format(experiment_name)\n",
    "    plot_dir = \"{}/{}\".format(plot_home_dir, experiment_name)\n",
    "    if not os.path.exists(plot_dir):\n",
    "        os.makedirs(plot_dir)\n",
    "    write_images(experiment_dir, plot_dir, src_dir)"
   ]
  },
  {
   "cell_type": "code",
   "execution_count": null,
   "metadata": {},
   "outputs": [],
   "source": []
  }
 ],
 "metadata": {
  "kernelspec": {
   "display_name": "Python 2",
   "language": "python",
   "name": "python2"
  },
  "language_info": {
   "codemirror_mode": {
    "name": "ipython",
    "version": 2
   },
   "file_extension": ".py",
   "mimetype": "text/x-python",
   "name": "python",
   "nbconvert_exporter": "python",
   "pygments_lexer": "ipython2",
   "version": "2.7.14"
  }
 },
 "nbformat": 4,
 "nbformat_minor": 2
}
