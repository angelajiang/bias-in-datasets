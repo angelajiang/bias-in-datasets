{
 "cells": [
  {
   "cell_type": "code",
   "execution_count": 1,
   "metadata": {},
   "outputs": [],
   "source": [
    "import os\n",
    "import sys\n",
    "import matplotlib\n",
    "import matplotlib.pyplot as plt\n",
    "\n",
    "sys.path.insert(0, '/Users/angela/src/private/bias-in-datasets/active_learning/src')\n",
    "from Plotter import format_plot, write_file\n"
   ]
  },
  {
   "cell_type": "code",
   "execution_count": 2,
   "metadata": {},
   "outputs": [],
   "source": [
    "def plot_eval(experiment_dir, experiment_names, plot_dir, batch_size=128, log_every=100):\n",
    "    for experiment_name in experiment_names:\n",
    "        val_file = os.path.join(experiment_dir, experiment_name, \"val_eval.txt\")\n",
    "        xs = []\n",
    "        losses = []\n",
    "        accs = []\n",
    "        print(\"parsing...\")\n",
    "        with open(val_file) as f:\n",
    "            for i, line in enumerate(f):\n",
    "                if \"Crossent\" in line:\n",
    "                    continue\n",
    "                vals = line.rstrip().split(\" \")\n",
    "                crossent = float(vals[0])\n",
    "                acc = float(vals[1]) * 100\n",
    "                losses.append(crossent)\n",
    "                accs.append(acc)\n",
    "                x = i * batch_size * log_every / 1000000.\n",
    "                xs.append(x)\n",
    "        print(\"plotting...\")\n",
    "        #plt.plot(xs, losses, label=experiment_name)\n",
    "        plt.plot(xs, accs, label=experiment_name)\n",
    "    with open(\"/Users/angela/tmp/Test Accuracy-181115_seedednew_aug-1.0\") as f:\n",
    "        xs = []\n",
    "        ys = []\n",
    "        for line in f:\n",
    "            vals = line.rstrip().split(\",\")\n",
    "            xs.append(float(vals[0]))\n",
    "            ys.append(float(vals[1]))\n",
    "        plt.plot(xs, ys, label=\"Our Baseline\")\n",
    "    #plot_prefix = \"{}/{}_val_losses\".format(plot_dir, experiment_name)\n",
    "    plot_prefix = \"{}/{}_val_accs\".format(plot_dir, experiment_name)\n",
    "    format_plot(\"Num Images Trained (millions)\", \"Accuracies\")\n",
    "    write_file(plot_prefix)\n"
   ]
  },
  {
   "cell_type": "code",
   "execution_count": 3,
   "metadata": {},
   "outputs": [
    {
     "name": "stdout",
     "output_type": "stream",
     "text": [
      "parsing...\n",
      "plotting...\n",
      "parsing...\n",
      "plotting...\n",
      "../plots/181128_reproduce/181128_uniform_val_accs.pdf\n"
     ]
    },
    {
     "data": {
      "text/plain": [
       "<Figure size 432x288 with 0 Axes>"
      ]
     },
     "metadata": {},
     "output_type": "display_data"
    }
   ],
   "source": [
    "plot_home_dir = \"../plots\"\n",
    "experiment_dir = \"../data/output/importance_sampling\"\n",
    "experiment_names = [\"181128_oraclegnorm\", \"181128_uniform\"]\n",
    "plot_dir = os.path.join(plot_home_dir, \"181128_reproduce\")\n",
    "if not os.path.exists(plot_dir):\n",
    "    os.makedirs(plot_dir)\n",
    "    \n",
    "plot_eval(experiment_dir, experiment_names, plot_dir)"
   ]
  },
  {
   "cell_type": "code",
   "execution_count": null,
   "metadata": {},
   "outputs": [],
   "source": []
  }
 ],
 "metadata": {
  "celltoolbar": "Edit Metadata",
  "kernelspec": {
   "display_name": "Python 2",
   "language": "python",
   "name": "python2"
  },
  "language_info": {
   "codemirror_mode": {
    "name": "ipython",
    "version": 2
   },
   "file_extension": ".py",
   "mimetype": "text/x-python",
   "name": "python",
   "nbconvert_exporter": "python",
   "pygments_lexer": "ipython2",
   "version": "2.7.14"
  }
 },
 "nbformat": 4,
 "nbformat_minor": 2
}
