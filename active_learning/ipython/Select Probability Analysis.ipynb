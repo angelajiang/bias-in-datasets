{
 "cells": [
  {
   "cell_type": "code",
   "execution_count": 2,
   "metadata": {},
   "outputs": [],
   "source": [
    "import seaborn as sns\n",
    "import tensorflow as tf\n",
    "import numpy as np\n",
    "import matplotlib.mlab as mlab\n",
    "import matplotlib.pyplot as plt\n",
    "import pickle\n",
    "import os\n",
    "import sys\n",
    "\n",
    "sns.set_style(\"whitegrid\")\n",
    "sns.set_palette(\"husl\")\n",
    "\n",
    "sys.path.insert(0, '/Users/angela/src/private/bias-in-datasets/active_learning/src')\n",
    "import Evaluate\n",
    "from Plotter import format_plot\n",
    "\n"
   ]
  },
  {
   "cell_type": "code",
   "execution_count": 3,
   "metadata": {},
   "outputs": [],
   "source": [
    "\n",
    "def write_file(plot_file_prefix, show=False):\n",
    "\n",
    "    plot_file = \"{}.pdf\".format(plot_file_prefix)\n",
    "    plt.savefig(plot_file)\n",
    "    \n",
    "    print(plot_file)\n",
    "    \n",
    "    plot_file = \"{}.png\".format(plot_file_prefix)\n",
    "    plt.savefig(plot_file, format=\"png\", dpi=1000)\n",
    "    \n",
    "    if show:\n",
    "        plt.show()\n",
    "        \n",
    "    plt.clf()"
   ]
  },
  {
   "cell_type": "code",
   "execution_count": 16,
   "metadata": {},
   "outputs": [],
   "source": [
    "def plot_probability_timeline(plot_dir, pickle_file, label):\n",
    "    with open(pickle_file, \"rb\") as f:\n",
    "        d = pickle.load(f)\n",
    "        print(\"Probabilities for {} passes\".format(len(d[0])))\n",
    "        for image_id, probs in d.iteritems():\n",
    "            plt.plot(range(len(probs)), probs, label=\"Image {}\".format(image_id))\n",
    "            format_plot(\"Pass #\", \"Select Probability\")\n",
    "            plt.ylim(0, 1)\n",
    "            write_file(os.path.join(plot_dir, \"prob_timeline_{}\".format(image_id)))\n",
    "            \n",
    "def plot_probability_dist(plot_dir, pickle_file, label, epochs = [0, 100, 200, 300, 400, 500, 600, 700]):\n",
    "    with open(pickle_file, \"rb\") as f:\n",
    "        d = pickle.load(f)\n",
    "        print(\"Probabilities for {} passes\".format(len(d[0])))\n",
    "        for epoch in epochs:\n",
    "            last_probs = []\n",
    "            for image_id, probs in d.iteritems():\n",
    "                last_probs.append(probs[epoch])\n",
    "            plt.hist(last_probs, normed=True, bins=50)\n",
    "            format_plot(\"Select Probability\", \"Histogram\")\n",
    "            plt.xlim(0, 1)\n",
    "            plt.ylim(0, 50)\n",
    "            write_file(os.path.join(plot_dir, \"prob_hist_{}_{}\".format(label, epoch)))"
   ]
  },
  {
   "cell_type": "code",
   "execution_count": 16,
   "metadata": {},
   "outputs": [
    {
     "name": "stdout",
     "output_type": "stream",
     "text": [
      "Probabilities for 1280 passes\n",
      "../plots/batch_stats/probabilities//181208_net/prob_timeline_0.pdf\n",
      "../plots/batch_stats/probabilities//181208_net/prob_timeline_1.pdf\n",
      "../plots/batch_stats/probabilities//181208_net/prob_timeline_2.pdf\n",
      "../plots/batch_stats/probabilities//181208_net/prob_timeline_3.pdf\n",
      "../plots/batch_stats/probabilities//181208_net/prob_timeline_4.pdf\n",
      "../plots/batch_stats/probabilities//181208_net/prob_timeline_5.pdf\n",
      "../plots/batch_stats/probabilities//181208_net/prob_timeline_6.pdf\n",
      "../plots/batch_stats/probabilities//181208_net/prob_timeline_7.pdf\n",
      "../plots/batch_stats/probabilities//181208_net/prob_timeline_8.pdf\n",
      "../plots/batch_stats/probabilities//181208_net/prob_timeline_9.pdf\n",
      "../plots/batch_stats/probabilities//181208_net/prob_timeline_10.pdf\n",
      "../plots/batch_stats/probabilities//181208_net/prob_timeline_11.pdf\n",
      "../plots/batch_stats/probabilities//181208_net/prob_timeline_12.pdf\n",
      "../plots/batch_stats/probabilities//181208_net/prob_timeline_13.pdf\n",
      "../plots/batch_stats/probabilities//181208_net/prob_timeline_14.pdf\n",
      "../plots/batch_stats/probabilities//181208_net/prob_timeline_15.pdf\n",
      "../plots/batch_stats/probabilities//181208_net/prob_timeline_16.pdf\n",
      "../plots/batch_stats/probabilities//181208_net/prob_timeline_17.pdf\n",
      "../plots/batch_stats/probabilities//181208_net/prob_timeline_18.pdf\n",
      "../plots/batch_stats/probabilities//181208_net/prob_timeline_19.pdf\n",
      "../plots/batch_stats/probabilities//181208_net/prob_timeline_20.pdf\n",
      "../plots/batch_stats/probabilities//181208_net/prob_timeline_21.pdf\n",
      "../plots/batch_stats/probabilities//181208_net/prob_timeline_22.pdf\n",
      "../plots/batch_stats/probabilities//181208_net/prob_timeline_23.pdf\n",
      "../plots/batch_stats/probabilities//181208_net/prob_timeline_24.pdf\n",
      "../plots/batch_stats/probabilities//181208_net/prob_timeline_25.pdf\n",
      "../plots/batch_stats/probabilities//181208_net/prob_timeline_26.pdf\n",
      "../plots/batch_stats/probabilities//181208_net/prob_timeline_27.pdf\n",
      "../plots/batch_stats/probabilities//181208_net/prob_timeline_28.pdf\n",
      "../plots/batch_stats/probabilities//181208_net/prob_timeline_29.pdf\n",
      "../plots/batch_stats/probabilities//181208_net/prob_timeline_30.pdf\n",
      "../plots/batch_stats/probabilities//181208_net/prob_timeline_31.pdf\n",
      "../plots/batch_stats/probabilities//181208_net/prob_timeline_32.pdf\n",
      "../plots/batch_stats/probabilities//181208_net/prob_timeline_33.pdf\n",
      "../plots/batch_stats/probabilities//181208_net/prob_timeline_34.pdf\n",
      "../plots/batch_stats/probabilities//181208_net/prob_timeline_35.pdf\n",
      "../plots/batch_stats/probabilities//181208_net/prob_timeline_36.pdf\n",
      "../plots/batch_stats/probabilities//181208_net/prob_timeline_37.pdf\n",
      "../plots/batch_stats/probabilities//181208_net/prob_timeline_38.pdf\n",
      "../plots/batch_stats/probabilities//181208_net/prob_timeline_39.pdf\n",
      "../plots/batch_stats/probabilities//181208_net/prob_timeline_40.pdf\n",
      "../plots/batch_stats/probabilities//181208_net/prob_timeline_41.pdf\n",
      "../plots/batch_stats/probabilities//181208_net/prob_timeline_42.pdf\n",
      "../plots/batch_stats/probabilities//181208_net/prob_timeline_43.pdf\n",
      "../plots/batch_stats/probabilities//181208_net/prob_timeline_44.pdf\n",
      "../plots/batch_stats/probabilities//181208_net/prob_timeline_45.pdf\n",
      "../plots/batch_stats/probabilities//181208_net/prob_timeline_46.pdf\n",
      "../plots/batch_stats/probabilities//181208_net/prob_timeline_47.pdf\n",
      "../plots/batch_stats/probabilities//181208_net/prob_timeline_48.pdf\n",
      "../plots/batch_stats/probabilities//181208_net/prob_timeline_49.pdf\n",
      "../plots/batch_stats/probabilities//181208_net/prob_timeline_50.pdf\n",
      "../plots/batch_stats/probabilities//181208_net/prob_timeline_51.pdf\n",
      "../plots/batch_stats/probabilities//181208_net/prob_timeline_52.pdf\n",
      "../plots/batch_stats/probabilities//181208_net/prob_timeline_53.pdf\n",
      "../plots/batch_stats/probabilities//181208_net/prob_timeline_54.pdf\n",
      "../plots/batch_stats/probabilities//181208_net/prob_timeline_55.pdf\n",
      "../plots/batch_stats/probabilities//181208_net/prob_timeline_56.pdf\n",
      "../plots/batch_stats/probabilities//181208_net/prob_timeline_57.pdf\n",
      "../plots/batch_stats/probabilities//181208_net/prob_timeline_58.pdf\n",
      "../plots/batch_stats/probabilities//181208_net/prob_timeline_59.pdf\n",
      "../plots/batch_stats/probabilities//181208_net/prob_timeline_60.pdf\n",
      "../plots/batch_stats/probabilities//181208_net/prob_timeline_61.pdf\n",
      "../plots/batch_stats/probabilities//181208_net/prob_timeline_62.pdf\n",
      "../plots/batch_stats/probabilities//181208_net/prob_timeline_63.pdf\n",
      "../plots/batch_stats/probabilities//181208_net/prob_timeline_64.pdf\n",
      "../plots/batch_stats/probabilities//181208_net/prob_timeline_65.pdf\n",
      "../plots/batch_stats/probabilities//181208_net/prob_timeline_66.pdf\n",
      "../plots/batch_stats/probabilities//181208_net/prob_timeline_67.pdf\n",
      "../plots/batch_stats/probabilities//181208_net/prob_timeline_68.pdf\n",
      "../plots/batch_stats/probabilities//181208_net/prob_timeline_69.pdf\n",
      "../plots/batch_stats/probabilities//181208_net/prob_timeline_70.pdf\n",
      "../plots/batch_stats/probabilities//181208_net/prob_timeline_71.pdf\n",
      "../plots/batch_stats/probabilities//181208_net/prob_timeline_72.pdf\n",
      "../plots/batch_stats/probabilities//181208_net/prob_timeline_73.pdf\n",
      "../plots/batch_stats/probabilities//181208_net/prob_timeline_74.pdf\n",
      "../plots/batch_stats/probabilities//181208_net/prob_timeline_75.pdf\n",
      "../plots/batch_stats/probabilities//181208_net/prob_timeline_76.pdf\n",
      "../plots/batch_stats/probabilities//181208_net/prob_timeline_77.pdf\n",
      "../plots/batch_stats/probabilities//181208_net/prob_timeline_78.pdf\n",
      "../plots/batch_stats/probabilities//181208_net/prob_timeline_79.pdf\n",
      "../plots/batch_stats/probabilities//181208_net/prob_timeline_80.pdf\n",
      "../plots/batch_stats/probabilities//181208_net/prob_timeline_81.pdf\n",
      "../plots/batch_stats/probabilities//181208_net/prob_timeline_82.pdf\n",
      "../plots/batch_stats/probabilities//181208_net/prob_timeline_83.pdf\n",
      "../plots/batch_stats/probabilities//181208_net/prob_timeline_84.pdf\n",
      "../plots/batch_stats/probabilities//181208_net/prob_timeline_85.pdf\n",
      "../plots/batch_stats/probabilities//181208_net/prob_timeline_86.pdf\n",
      "../plots/batch_stats/probabilities//181208_net/prob_timeline_87.pdf\n",
      "../plots/batch_stats/probabilities//181208_net/prob_timeline_88.pdf\n",
      "../plots/batch_stats/probabilities//181208_net/prob_timeline_89.pdf\n",
      "../plots/batch_stats/probabilities//181208_net/prob_timeline_90.pdf\n"
     ]
    },
    {
     "ename": "KeyboardInterrupt",
     "evalue": "",
     "output_type": "error",
     "traceback": [
      "\u001b[0;31m---------------------------------------------------------------------------\u001b[0m",
      "\u001b[0;31mKeyboardInterrupt\u001b[0m                         Traceback (most recent call last)",
      "\u001b[0;32m<ipython-input-16-1543a070b630>\u001b[0m in \u001b[0;36m<module>\u001b[0;34m()\u001b[0m\n\u001b[1;32m     12\u001b[0m \u001b[0mlabel\u001b[0m \u001b[0;34m=\u001b[0m \u001b[0;34m\"DesNet\"\u001b[0m\u001b[0;34m\u001b[0m\u001b[0m\n\u001b[1;32m     13\u001b[0m \u001b[0;34m\u001b[0m\u001b[0m\n\u001b[0;32m---> 14\u001b[0;31m \u001b[0mplot_probability_timeline\u001b[0m\u001b[0;34m(\u001b[0m\u001b[0mplot_dir\u001b[0m\u001b[0;34m,\u001b[0m \u001b[0mprobability_pickle_file\u001b[0m\u001b[0;34m,\u001b[0m \u001b[0mlabel\u001b[0m\u001b[0;34m)\u001b[0m\u001b[0;34m\u001b[0m\u001b[0m\n\u001b[0m\u001b[1;32m     15\u001b[0m \u001b[0mplot_probability_dist\u001b[0m\u001b[0;34m(\u001b[0m\u001b[0mplot_dir\u001b[0m\u001b[0;34m,\u001b[0m \u001b[0mprobability_pickle_file\u001b[0m\u001b[0;34m,\u001b[0m \u001b[0mlabel\u001b[0m\u001b[0;34m)\u001b[0m\u001b[0;34m\u001b[0m\u001b[0m\n",
      "\u001b[0;32m<ipython-input-15-a787a0154f94>\u001b[0m in \u001b[0;36mplot_probability_timeline\u001b[0;34m(plot_dir, pickle_file, label)\u001b[0m\n\u001b[1;32m      7\u001b[0m             \u001b[0mformat_plot\u001b[0m\u001b[0;34m(\u001b[0m\u001b[0;34m\"Pass #\"\u001b[0m\u001b[0;34m,\u001b[0m \u001b[0;34m\"Select Probability\"\u001b[0m\u001b[0;34m)\u001b[0m\u001b[0;34m\u001b[0m\u001b[0m\n\u001b[1;32m      8\u001b[0m             \u001b[0mplt\u001b[0m\u001b[0;34m.\u001b[0m\u001b[0mylim\u001b[0m\u001b[0;34m(\u001b[0m\u001b[0;36m0\u001b[0m\u001b[0;34m,\u001b[0m \u001b[0;36m1\u001b[0m\u001b[0;34m)\u001b[0m\u001b[0;34m\u001b[0m\u001b[0m\n\u001b[0;32m----> 9\u001b[0;31m             \u001b[0mwrite_file\u001b[0m\u001b[0;34m(\u001b[0m\u001b[0mos\u001b[0m\u001b[0;34m.\u001b[0m\u001b[0mpath\u001b[0m\u001b[0;34m.\u001b[0m\u001b[0mjoin\u001b[0m\u001b[0;34m(\u001b[0m\u001b[0mplot_dir\u001b[0m\u001b[0;34m,\u001b[0m \u001b[0;34m\"prob_timeline_{}\"\u001b[0m\u001b[0;34m.\u001b[0m\u001b[0mformat\u001b[0m\u001b[0;34m(\u001b[0m\u001b[0mimage_id\u001b[0m\u001b[0;34m)\u001b[0m\u001b[0;34m)\u001b[0m\u001b[0;34m)\u001b[0m\u001b[0;34m\u001b[0m\u001b[0m\n\u001b[0m\u001b[1;32m     10\u001b[0m \u001b[0;34m\u001b[0m\u001b[0m\n\u001b[1;32m     11\u001b[0m \u001b[0;32mdef\u001b[0m \u001b[0mplot_probability_dist\u001b[0m\u001b[0;34m(\u001b[0m\u001b[0mplot_dir\u001b[0m\u001b[0;34m,\u001b[0m \u001b[0mpickle_file\u001b[0m\u001b[0;34m,\u001b[0m \u001b[0mlabel\u001b[0m\u001b[0;34m)\u001b[0m\u001b[0;34m:\u001b[0m\u001b[0;34m\u001b[0m\u001b[0m\n",
      "\u001b[0;32m<ipython-input-3-baf448186124>\u001b[0m in \u001b[0;36mwrite_file\u001b[0;34m(plot_file_prefix, show)\u001b[0m\n\u001b[1;32m      8\u001b[0m \u001b[0;34m\u001b[0m\u001b[0m\n\u001b[1;32m      9\u001b[0m     \u001b[0mplot_file\u001b[0m \u001b[0;34m=\u001b[0m \u001b[0;34m\"{}.png\"\u001b[0m\u001b[0;34m.\u001b[0m\u001b[0mformat\u001b[0m\u001b[0;34m(\u001b[0m\u001b[0mplot_file_prefix\u001b[0m\u001b[0;34m)\u001b[0m\u001b[0;34m\u001b[0m\u001b[0m\n\u001b[0;32m---> 10\u001b[0;31m     \u001b[0mplt\u001b[0m\u001b[0;34m.\u001b[0m\u001b[0msavefig\u001b[0m\u001b[0;34m(\u001b[0m\u001b[0mplot_file\u001b[0m\u001b[0;34m,\u001b[0m \u001b[0mformat\u001b[0m\u001b[0;34m=\u001b[0m\u001b[0;34m\"png\"\u001b[0m\u001b[0;34m,\u001b[0m \u001b[0mdpi\u001b[0m\u001b[0;34m=\u001b[0m\u001b[0;36m1000\u001b[0m\u001b[0;34m)\u001b[0m\u001b[0;34m\u001b[0m\u001b[0m\n\u001b[0m\u001b[1;32m     11\u001b[0m \u001b[0;34m\u001b[0m\u001b[0m\n\u001b[1;32m     12\u001b[0m     \u001b[0;32mif\u001b[0m \u001b[0mshow\u001b[0m\u001b[0;34m:\u001b[0m\u001b[0;34m\u001b[0m\u001b[0m\n",
      "\u001b[0;32m/usr/local/lib/python2.7/site-packages/matplotlib/pyplot.pyc\u001b[0m in \u001b[0;36msavefig\u001b[0;34m(*args, **kwargs)\u001b[0m\n\u001b[1;32m    708\u001b[0m \u001b[0;32mdef\u001b[0m \u001b[0msavefig\u001b[0m\u001b[0;34m(\u001b[0m\u001b[0;34m*\u001b[0m\u001b[0margs\u001b[0m\u001b[0;34m,\u001b[0m \u001b[0;34m**\u001b[0m\u001b[0mkwargs\u001b[0m\u001b[0;34m)\u001b[0m\u001b[0;34m:\u001b[0m\u001b[0;34m\u001b[0m\u001b[0m\n\u001b[1;32m    709\u001b[0m     \u001b[0mfig\u001b[0m \u001b[0;34m=\u001b[0m \u001b[0mgcf\u001b[0m\u001b[0;34m(\u001b[0m\u001b[0;34m)\u001b[0m\u001b[0;34m\u001b[0m\u001b[0m\n\u001b[0;32m--> 710\u001b[0;31m     \u001b[0mres\u001b[0m \u001b[0;34m=\u001b[0m \u001b[0mfig\u001b[0m\u001b[0;34m.\u001b[0m\u001b[0msavefig\u001b[0m\u001b[0;34m(\u001b[0m\u001b[0;34m*\u001b[0m\u001b[0margs\u001b[0m\u001b[0;34m,\u001b[0m \u001b[0;34m**\u001b[0m\u001b[0mkwargs\u001b[0m\u001b[0;34m)\u001b[0m\u001b[0;34m\u001b[0m\u001b[0m\n\u001b[0m\u001b[1;32m    711\u001b[0m     \u001b[0mfig\u001b[0m\u001b[0;34m.\u001b[0m\u001b[0mcanvas\u001b[0m\u001b[0;34m.\u001b[0m\u001b[0mdraw_idle\u001b[0m\u001b[0;34m(\u001b[0m\u001b[0;34m)\u001b[0m   \u001b[0;31m# need this if 'transparent=True' to reset colors\u001b[0m\u001b[0;34m\u001b[0m\u001b[0m\n\u001b[1;32m    712\u001b[0m     \u001b[0;32mreturn\u001b[0m \u001b[0mres\u001b[0m\u001b[0;34m\u001b[0m\u001b[0m\n",
      "\u001b[0;32m/usr/local/lib/python2.7/site-packages/matplotlib/figure.pyc\u001b[0m in \u001b[0;36msavefig\u001b[0;34m(self, fname, **kwargs)\u001b[0m\n\u001b[1;32m   2033\u001b[0m             \u001b[0mself\u001b[0m\u001b[0;34m.\u001b[0m\u001b[0mset_frameon\u001b[0m\u001b[0;34m(\u001b[0m\u001b[0mframeon\u001b[0m\u001b[0;34m)\u001b[0m\u001b[0;34m\u001b[0m\u001b[0m\n\u001b[1;32m   2034\u001b[0m \u001b[0;34m\u001b[0m\u001b[0m\n\u001b[0;32m-> 2035\u001b[0;31m         \u001b[0mself\u001b[0m\u001b[0;34m.\u001b[0m\u001b[0mcanvas\u001b[0m\u001b[0;34m.\u001b[0m\u001b[0mprint_figure\u001b[0m\u001b[0;34m(\u001b[0m\u001b[0mfname\u001b[0m\u001b[0;34m,\u001b[0m \u001b[0;34m**\u001b[0m\u001b[0mkwargs\u001b[0m\u001b[0;34m)\u001b[0m\u001b[0;34m\u001b[0m\u001b[0m\n\u001b[0m\u001b[1;32m   2036\u001b[0m \u001b[0;34m\u001b[0m\u001b[0m\n\u001b[1;32m   2037\u001b[0m         \u001b[0;32mif\u001b[0m \u001b[0mframeon\u001b[0m\u001b[0;34m:\u001b[0m\u001b[0;34m\u001b[0m\u001b[0m\n",
      "\u001b[0;32m/usr/local/lib/python2.7/site-packages/matplotlib/backend_bases.pyc\u001b[0m in \u001b[0;36mprint_figure\u001b[0;34m(self, filename, dpi, facecolor, edgecolor, orientation, format, **kwargs)\u001b[0m\n\u001b[1;32m   2259\u001b[0m                 \u001b[0morientation\u001b[0m\u001b[0;34m=\u001b[0m\u001b[0morientation\u001b[0m\u001b[0;34m,\u001b[0m\u001b[0;34m\u001b[0m\u001b[0m\n\u001b[1;32m   2260\u001b[0m                 \u001b[0mbbox_inches_restore\u001b[0m\u001b[0;34m=\u001b[0m\u001b[0m_bbox_inches_restore\u001b[0m\u001b[0;34m,\u001b[0m\u001b[0;34m\u001b[0m\u001b[0m\n\u001b[0;32m-> 2261\u001b[0;31m                 **kwargs)\n\u001b[0m\u001b[1;32m   2262\u001b[0m         \u001b[0;32mfinally\u001b[0m\u001b[0;34m:\u001b[0m\u001b[0;34m\u001b[0m\u001b[0m\n\u001b[1;32m   2263\u001b[0m             \u001b[0;32mif\u001b[0m \u001b[0mbbox_inches\u001b[0m \u001b[0;32mand\u001b[0m \u001b[0mrestore_bbox\u001b[0m\u001b[0;34m:\u001b[0m\u001b[0;34m\u001b[0m\u001b[0m\n",
      "\u001b[0;32m/usr/local/lib/python2.7/site-packages/matplotlib/backends/backend_agg.pyc\u001b[0m in \u001b[0;36mprint_png\u001b[0;34m(self, filename_or_obj, *args, **kwargs)\u001b[0m\n\u001b[1;32m    524\u001b[0m             \u001b[0;32mwith\u001b[0m \u001b[0mcbook\u001b[0m\u001b[0;34m.\u001b[0m\u001b[0mopen_file_cm\u001b[0m\u001b[0;34m(\u001b[0m\u001b[0mfilename_or_obj\u001b[0m\u001b[0;34m,\u001b[0m \u001b[0;34m\"wb\"\u001b[0m\u001b[0;34m)\u001b[0m \u001b[0;32mas\u001b[0m \u001b[0mfh\u001b[0m\u001b[0;34m:\u001b[0m\u001b[0;34m\u001b[0m\u001b[0m\n\u001b[1;32m    525\u001b[0m                 _png.write_png(renderer._renderer, fh,\n\u001b[0;32m--> 526\u001b[0;31m                                self.figure.dpi, metadata=metadata)\n\u001b[0m\u001b[1;32m    527\u001b[0m         \u001b[0;32mfinally\u001b[0m\u001b[0;34m:\u001b[0m\u001b[0;34m\u001b[0m\u001b[0m\n\u001b[1;32m    528\u001b[0m             \u001b[0mrenderer\u001b[0m\u001b[0;34m.\u001b[0m\u001b[0mdpi\u001b[0m \u001b[0;34m=\u001b[0m \u001b[0moriginal_dpi\u001b[0m\u001b[0;34m\u001b[0m\u001b[0m\n",
      "\u001b[0;31mKeyboardInterrupt\u001b[0m: "
     ]
    },
    {
     "data": {
      "image/png": "[encoded data removed]",
      "text/plain": [
       "<Figure size 432x288 with 1 Axes>"
      ]
     },
     "metadata": {},
     "output_type": "display_data"
    }
   ],
   "source": [
    "plot_home_dir = \"../plots/batch_stats/probabilities/\"\n",
    "if not os.path.exists(plot_home_dir):\n",
    "    os.makedirs(plot_home_dir)\n",
    "    \n",
    "plot_dir = \"{}/181208_net/\".format(plot_home_dir)\n",
    "if not os.path.exists(plot_dir):\n",
    "    os.makedirs(plot_dir)\n",
    "\n",
    "exp_dir = \"../data/output/cifar10/181208_net/pickles/probabilities_by_image/\"\n",
    "probability_pickle_file = os.path.join(exp_dir,\n",
    "                                       \"deterministic_cifar10_densenet_0.1_64_0.0_0.0005_trial1_seed1337_probabilities.pickle\")\n",
    "label = \"DesNet\"\n",
    "\n",
    "plot_probability_timeline(plot_dir, probability_pickle_file, label)\n"
   ]
  },
  {
   "cell_type": "code",
   "execution_count": 17,
   "metadata": {},
   "outputs": [
    {
     "name": "stdout",
     "output_type": "stream",
     "text": [
      "Probabilities for 1280 passes\n",
      "../plots/batch_stats/probabilities//181208_net/prob_hist.pdf\n"
     ]
    },
    {
     "name": "stderr",
     "output_type": "stream",
     "text": [
      "/usr/local/lib/python2.7/site-packages/matplotlib/axes/_axes.py:6448: UserWarning: The 'normed' kwarg is deprecated, and has been replaced by the 'density' kwarg.\n",
      "  warnings.warn(\"The 'normed' kwarg is deprecated, and has been \"\n"
     ]
    },
    {
     "data": {
      "text/plain": [
       "<Figure size 432x288 with 0 Axes>"
      ]
     },
     "metadata": {},
     "output_type": "display_data"
    }
   ],
   "source": [
    "plot_home_dir = \"../plots/batch_stats/probabilities/\"\n",
    "plot_dir = \"{}/181208_net/\".format(plot_home_dir)\n",
    "if not os.path.exists(plot_dir):\n",
    "    os.makedirs(plot_dir)\n",
    "\n",
    "exp_dir = \"../data/output/cifar10/181208_net/pickles/probabilities_by_image/\"\n",
    "probability_pickle_file = os.path.join(exp_dir,\n",
    "                                       \"deterministic_cifar10_densenet_0.1_64_0.0_0.0005_trial1_seed1337_probabilities.pickle\")\n",
    "label = \"DesNet\"\n",
    "plot_probability_dist(plot_dir, probability_pickle_file, label)"
   ]
  },
  {
   "cell_type": "code",
   "execution_count": 17,
   "metadata": {},
   "outputs": [
    {
     "name": "stdout",
     "output_type": "stream",
     "text": [
      "Probabilities for 646 passes\n",
      "../plots/batch_stats/probabilities//190319_pscale/prob_hist_MobilenetV2_0.pdf\n",
      "../plots/batch_stats/probabilities//190319_pscale/prob_hist_MobilenetV2_100.pdf\n",
      "../plots/batch_stats/probabilities//190319_pscale/prob_hist_MobilenetV2_200.pdf\n",
      "../plots/batch_stats/probabilities//190319_pscale/prob_hist_MobilenetV2_300.pdf\n",
      "../plots/batch_stats/probabilities//190319_pscale/prob_hist_MobilenetV2_400.pdf\n",
      "../plots/batch_stats/probabilities//190319_pscale/prob_hist_MobilenetV2_500.pdf\n",
      "../plots/batch_stats/probabilities//190319_pscale/prob_hist_MobilenetV2_600.pdf\n"
     ]
    },
    {
     "ename": "IndexError",
     "evalue": "list index out of range",
     "output_type": "error",
     "traceback": [
      "\u001b[0;31m---------------------------------------------------------------------------\u001b[0m",
      "\u001b[0;31mIndexError\u001b[0m                                Traceback (most recent call last)",
      "\u001b[0;32m<ipython-input-17-eaada91eacc8>\u001b[0m in \u001b[0;36m<module>\u001b[0;34m()\u001b[0m\n\u001b[1;32m      8\u001b[0m                                        \"sampling_cifar10_mobilenetv2_0.1_128_0.0_0.0005_trial1_seed1337_probabilities.pickle\")\n\u001b[1;32m      9\u001b[0m \u001b[0mlabel\u001b[0m \u001b[0;34m=\u001b[0m \u001b[0;34m\"MobilenetV2\"\u001b[0m\u001b[0;34m\u001b[0m\u001b[0m\n\u001b[0;32m---> 10\u001b[0;31m \u001b[0mplot_probability_dist\u001b[0m\u001b[0;34m(\u001b[0m\u001b[0mplot_dir\u001b[0m\u001b[0;34m,\u001b[0m \u001b[0mprobability_pickle_file\u001b[0m\u001b[0;34m,\u001b[0m \u001b[0mlabel\u001b[0m\u001b[0;34m)\u001b[0m\u001b[0;34m\u001b[0m\u001b[0m\n\u001b[0m",
      "\u001b[0;32m<ipython-input-16-b5638fa69fe3>\u001b[0m in \u001b[0;36mplot_probability_dist\u001b[0;34m(plot_dir, pickle_file, label, epochs)\u001b[0m\n\u001b[1;32m     16\u001b[0m             \u001b[0mlast_probs\u001b[0m \u001b[0;34m=\u001b[0m \u001b[0;34m[\u001b[0m\u001b[0;34m]\u001b[0m\u001b[0;34m\u001b[0m\u001b[0m\n\u001b[1;32m     17\u001b[0m             \u001b[0;32mfor\u001b[0m \u001b[0mimage_id\u001b[0m\u001b[0;34m,\u001b[0m \u001b[0mprobs\u001b[0m \u001b[0;32min\u001b[0m \u001b[0md\u001b[0m\u001b[0;34m.\u001b[0m\u001b[0miteritems\u001b[0m\u001b[0;34m(\u001b[0m\u001b[0;34m)\u001b[0m\u001b[0;34m:\u001b[0m\u001b[0;34m\u001b[0m\u001b[0m\n\u001b[0;32m---> 18\u001b[0;31m                 \u001b[0mlast_probs\u001b[0m\u001b[0;34m.\u001b[0m\u001b[0mappend\u001b[0m\u001b[0;34m(\u001b[0m\u001b[0mprobs\u001b[0m\u001b[0;34m[\u001b[0m\u001b[0mepoch\u001b[0m\u001b[0;34m]\u001b[0m\u001b[0;34m)\u001b[0m\u001b[0;34m\u001b[0m\u001b[0m\n\u001b[0m\u001b[1;32m     19\u001b[0m             \u001b[0mplt\u001b[0m\u001b[0;34m.\u001b[0m\u001b[0mhist\u001b[0m\u001b[0;34m(\u001b[0m\u001b[0mlast_probs\u001b[0m\u001b[0;34m,\u001b[0m \u001b[0mnormed\u001b[0m\u001b[0;34m=\u001b[0m\u001b[0mTrue\u001b[0m\u001b[0;34m,\u001b[0m \u001b[0mbins\u001b[0m\u001b[0;34m=\u001b[0m\u001b[0;36m50\u001b[0m\u001b[0;34m)\u001b[0m\u001b[0;34m\u001b[0m\u001b[0m\n\u001b[1;32m     20\u001b[0m             \u001b[0mformat_plot\u001b[0m\u001b[0;34m(\u001b[0m\u001b[0;34m\"Select Probability\"\u001b[0m\u001b[0;34m,\u001b[0m \u001b[0;34m\"Histogram\"\u001b[0m\u001b[0;34m)\u001b[0m\u001b[0;34m\u001b[0m\u001b[0m\n",
      "\u001b[0;31mIndexError\u001b[0m: list index out of range"
     ]
    },
    {
     "data": {
      "text/plain": [
       "<Figure size 432x288 with 0 Axes>"
      ]
     },
     "metadata": {},
     "output_type": "display_data"
    }
   ],
   "source": [
    "plot_home_dir = \"../plots/batch_stats/probabilities/\"\n",
    "plot_dir = \"{}/190319_pscale/\".format(plot_home_dir)\n",
    "if not os.path.exists(plot_dir):\n",
    "    os.makedirs(plot_dir)\n",
    "\n",
    "exp_dir = \"../data/output/cifar10/190319_pscale/pickles/probabilities_by_image/\"\n",
    "probability_pickle_file = os.path.join(exp_dir,\n",
    "                                       \"sampling_cifar10_mobilenetv2_0.1_128_0.0_0.0005_trial1_seed1337_probabilities.pickle\")\n",
    "label = \"MobilenetV2\"\n",
    "plot_probability_dist(plot_dir, probability_pickle_file, label)"
   ]
  },
  {
   "cell_type": "code",
   "execution_count": null,
   "metadata": {},
   "outputs": [],
   "source": []
  }
 ],
 "metadata": {
  "kernelspec": {
   "display_name": "Python 2",
   "language": "python",
   "name": "python2"
  },
  "language_info": {
   "codemirror_mode": {
    "name": "ipython",
    "version": 2
   },
   "file_extension": ".py",
   "mimetype": "text/x-python",
   "name": "python",
   "nbconvert_exporter": "python",
   "pygments_lexer": "ipython2",
   "version": "2.7.14"
  }
 },
 "nbformat": 4,
 "nbformat_minor": 2
}
